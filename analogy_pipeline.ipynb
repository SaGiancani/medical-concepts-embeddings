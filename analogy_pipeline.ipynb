{
 "cells": [
  {
   "cell_type": "code",
   "execution_count": 1,
   "id": "educational-surgery",
   "metadata": {},
   "outputs": [],
   "source": [
    "import umls_tables_processing, utils\n",
    "import datetime"
   ]
  },
  {
   "cell_type": "markdown",
   "id": "instrumental-identity",
   "metadata": {},
   "source": [
    "#### Previous coding related to processing of MRREL table: elaboration of relationships and evaluation of which is more convenient"
   ]
  },
  {
   "cell_type": "code",
   "execution_count": 2,
   "id": "bored-indicator",
   "metadata": {},
   "outputs": [
    {
     "name": "stdout",
     "output_type": "stream",
     "text": [
      "844\n",
      "0:00:48\n"
     ]
    }
   ],
   "source": [
    "_ = umls_tables_processing.count_relationships(rel_type = 'RELA')"
   ]
  },
  {
   "cell_type": "markdown",
   "id": "crucial-charm",
   "metadata": {},
   "source": [
    "This is the number of all the relationships `RELA` in the whole UMLS: they correspond to the particular relationships"
   ]
  },
  {
   "cell_type": "code",
   "execution_count": 3,
   "id": "declared-multimedia",
   "metadata": {},
   "outputs": [
    {
     "name": "stdout",
     "output_type": "stream",
     "text": [
      "10\n",
      "0:00:47\n"
     ]
    },
    {
     "data": {
      "text/plain": [
       "{'AQ', 'CHD', 'PAR', 'QB', 'RB', 'RN', 'RO', 'RQ', 'SIB', 'SY'}"
      ]
     },
     "execution_count": 3,
     "metadata": {},
     "output_type": "execute_result"
    }
   ],
   "source": [
    "umls_tables_processing.count_relationships(rel_type = 'REL')"
   ]
  },
  {
   "cell_type": "markdown",
   "id": "indoor-think",
   "metadata": {},
   "source": [
    "These are the `REL` relationships and the total number: they correspond to generical relationships"
   ]
  },
  {
   "cell_type": "markdown",
   "id": "round-married",
   "metadata": {},
   "source": [
    "The following lines tell us which are the relationship which link the 256 elements of the seed with the concept `COPD`: this is an evolution of the original seed building method."
   ]
  },
  {
   "cell_type": "code",
   "execution_count": 2,
   "id": "hollywood-salon",
   "metadata": {},
   "outputs": [],
   "source": [
    "double_rel = umls_tables_processing.concepts_related_to_concept(two_way = True, polishing_rels = True, switch_key= 'con')"
   ]
  },
  {
   "cell_type": "code",
   "execution_count": 5,
   "id": "bigger-elder",
   "metadata": {},
   "outputs": [],
   "source": [
    "single_rel = umls_tables_processing.concepts_related_to_concept(two_way = False, polishing_rels = True, switch_key= 'con')"
   ]
  },
  {
   "cell_type": "markdown",
   "id": "anticipated-pennsylvania",
   "metadata": {},
   "source": [
    "The two lines distinguish the both ways relationships from the one way."
   ]
  },
  {
   "cell_type": "markdown",
   "id": "legendary-jordan",
   "metadata": {},
   "source": [
    "#### Double ways"
   ]
  },
  {
   "cell_type": "code",
   "execution_count": 7,
   "id": "split-gathering",
   "metadata": {},
   "outputs": [
    {
     "name": "stdout",
     "output_type": "stream",
     "text": [
      "{'mapped_from', 'answer_to', 'subset_includes_concept', 'associated_finding_of', 'replaces', 'manifestation_of', 'related_to', 'fragments_for_synonyms_of', 'focus_of', 'gene_associated_with_disease', 'replaced_by', 'may_treat', 'same_as', 'has_fragments_for_synonyms', 'gene_product_malfunction_associated_with_disease', 'used_for', 'has_focus', 'classified_as', 'has_course', 'cdrh_parent_of', 'has_finding_site', 'has_contraindicated_drug', 'inverse_was_a', 'clinical_course_of', 'has_clinical_course', 'classifies', 'see', 'was_a', 'disease_has_associated_anatomic_site', 'is_associated_anatomic_site_of', 'see_from', 'has_manifestation', 'contraindicated_with_disease', 'has_associated_finding', 'has_cdrh_parent', 'has_answer', 'associated_with_malfunction_of_gene_product', 'associated_morphology_of', 'mapped_to', 'has_expanded_form', 'finding_site_of', 'entry_version_of', 'inverse_isa', 'has_entry_version', 'course_of', 'concept_in_subset', 'expanded_form_of', 'disease_has_associated_gene', 'has_associated_morphology', 'use', 'isa', 'may_be_treated_by', 'possibly_equivalent_to'}\n",
      "53\n"
     ]
    }
   ],
   "source": [
    "_ = set([i for j in double_rel.values() for i in j])\n",
    "print(_)\n",
    "print(len(_))"
   ]
  },
  {
   "cell_type": "markdown",
   "id": "sized-fourth",
   "metadata": {},
   "source": [
    "#### One way"
   ]
  },
  {
   "cell_type": "code",
   "execution_count": 8,
   "id": "competent-bleeding",
   "metadata": {},
   "outputs": [
    {
     "name": "stdout",
     "output_type": "stream",
     "text": [
      "{'mapped_from', 'subset_includes_concept', 'related_to', 'gene_associated_with_disease', 'replaced_by', 'may_treat', 'same_as', 'has_fragments_for_synonyms', 'gene_product_malfunction_associated_with_disease', 'used_for', 'has_focus', 'classified_as', 'cdrh_parent_of', 'inverse_was_a', 'clinical_course_of', 'see', 'was_a', 'see_from', 'is_associated_anatomic_site_of', 'has_manifestation', 'contraindicated_with_disease', 'has_associated_finding', 'has_cdrh_parent', 'has_answer', 'associated_morphology_of', 'mapped_to', 'has_expanded_form', 'entry_version_of', 'finding_site_of', 'inverse_isa', 'has_entry_version', 'course_of', 'expanded_form_of', 'use', 'isa', 'possibly_equivalent_to'}\n",
      "36\n"
     ]
    }
   ],
   "source": [
    "_ = set([i for j in single_rel.values() for i in j])\n",
    "print(_)\n",
    "print(len(_))"
   ]
  },
  {
   "cell_type": "markdown",
   "id": "tired-howard",
   "metadata": {},
   "source": [
    "#### Building the seed for analogic evaluation: we obtain lists of CUIs for each relationship in which they're involved with COPD"
   ]
  },
  {
   "cell_type": "code",
   "execution_count": null,
   "id": "aerial-rachel",
   "metadata": {},
   "outputs": [],
   "source": [
    "seed_analog_both = umls_tables_processing.concepts_related_to_concept(two_way = True, switch_key = 'rel')\n",
    "print(len(seed_analog_both))\n",
    "#seed_analog_both"
   ]
  },
  {
   "cell_type": "code",
   "execution_count": null,
   "id": "interior-superintendent",
   "metadata": {},
   "outputs": [],
   "source": [
    "seed_analog_one = umls_tables_processing.concepts_related_to_concept(two_way = False, switch_key = 'rel')\n",
    "print(len(seed_analog_one))\n",
    "#seed_analog_one"
   ]
  },
  {
   "cell_type": "markdown",
   "id": "dirty-avenue",
   "metadata": {},
   "source": [
    "In counting the number of RELA relationships, the second approach return one more relation: it is due to the presence of the emtpy relation `''`"
   ]
  },
  {
   "cell_type": "markdown",
   "id": "dress-prison",
   "metadata": {},
   "source": [
    "Importing the dictionary for augmenting the seed with labels (preferred and not) from MRCONSO table and the vocabulary of a w2v embedding (PubMed-and-PMC-w2v was chosen)"
   ]
  },
  {
   "cell_type": "code",
   "execution_count": 8,
   "id": "immediate-bearing",
   "metadata": {},
   "outputs": [
    {
     "name": "stdout",
     "output_type": "stream",
     "text": [
      "0:00:12\n",
      "0:00:00\n"
     ]
    }
   ],
   "source": [
    "#dict_conso = umls_tables_processing.cui_strings()\n",
    "#utils.inputs_save(dict_conso, 'dict_conso')\n",
    "dict_conso = utils.inputs_load('Utilities/dict_conso')\n",
    "vocab = utils.inputs_load('Utilities/PubMed-and-PMC-w2v-vocab')"
   ]
  },
  {
   "cell_type": "markdown",
   "id": "downtown-compiler",
   "metadata": {},
   "source": [
    "#### For optimizing the computation, the seed labels out-of-vocabulary are discarded "
   ]
  },
  {
   "cell_type": "markdown",
   "id": "necessary-fundamentals",
   "metadata": {},
   "source": [
    "Extraction of the 256 CUIs of seed and augmentation with all the labels"
   ]
  },
  {
   "cell_type": "code",
   "execution_count": 10,
   "id": "invisible-rental",
   "metadata": {},
   "outputs": [
    {
     "name": "stdout",
     "output_type": "stream",
     "text": [
      "0:00:00\n"
     ]
    }
   ],
   "source": [
    "copd_cuis = list(single_rel.keys())\n",
    "seed_rel, _ = umls_tables_processing.extracting_strings(copd_cuis, dict_conso)"
   ]
  },
  {
   "cell_type": "markdown",
   "id": "searching-olympus",
   "metadata": {},
   "source": [
    "Discarding oov labels per CUI"
   ]
  },
  {
   "cell_type": "code",
   "execution_count": 19,
   "id": "christian-subcommittee",
   "metadata": {},
   "outputs": [
    {
     "name": "stdout",
     "output_type": "stream",
     "text": [
      "0%\n",
      "0:00:04\n",
      "1%\n",
      "0:00:05\n",
      "2%\n",
      "0:00:06\n",
      "3%\n",
      "0:00:07\n",
      "3%\n",
      "0:00:08\n",
      "4%\n",
      "0:00:09\n",
      "5%\n",
      "0:00:09\n",
      "6%\n",
      "0:00:09\n",
      "7%\n",
      "0:00:10\n",
      "7%\n",
      "0:00:10\n",
      "8%\n",
      "0:00:10\n",
      "9%\n",
      "0:00:10\n",
      "10%\n",
      "0:00:11\n",
      "10%\n",
      "0:00:11\n",
      "11%\n",
      "0:00:11\n",
      "12%\n",
      "0:00:11\n",
      "13%\n",
      "0:00:12\n",
      "14%\n",
      "0:00:12\n",
      "14%\n",
      "0:00:13\n",
      "15%\n",
      "0:00:13\n",
      "16%\n",
      "0:00:13\n",
      "17%\n",
      "0:00:13\n",
      "17%\n",
      "0:00:13\n",
      "18%\n",
      "0:00:14\n",
      "19%\n",
      "0:00:17\n",
      "20%\n",
      "0:00:19\n",
      "21%\n",
      "0:00:19\n",
      "21%\n",
      "0:00:22\n",
      "22%\n",
      "0:00:27\n",
      "23%\n",
      "0:00:31\n",
      "24%\n",
      "0:00:34\n",
      "25%\n",
      "0:00:36\n",
      "25%\n",
      "0:00:37\n",
      "26%\n",
      "0:00:41\n",
      "27%\n",
      "0:00:44\n",
      "28%\n",
      "0:00:47\n",
      "28%\n",
      "0:00:50\n",
      "29%\n",
      "0:00:50\n",
      "30%\n",
      "0:00:52\n",
      "31%\n",
      "0:00:53\n",
      "32%\n",
      "0:00:56\n",
      "32%\n",
      "0:00:57\n",
      "33%\n",
      "0:00:57\n",
      "34%\n",
      "0:00:58\n",
      "35%\n",
      "0:00:58\n",
      "35%\n",
      "0:00:58\n",
      "36%\n",
      "0:00:58\n",
      "37%\n",
      "0:01:00\n",
      "38%\n",
      "0:01:01\n",
      "39%\n",
      "0:01:03\n",
      "39%\n",
      "0:01:08\n",
      "40%\n",
      "0:01:09\n",
      "41%\n",
      "0:01:10\n",
      "42%\n",
      "0:01:10\n",
      "42%\n",
      "0:01:11\n",
      "43%\n",
      "0:01:16\n",
      "44%\n",
      "0:01:17\n",
      "45%\n",
      "0:01:19\n",
      "46%\n",
      "0:01:21\n",
      "46%\n",
      "0:01:27\n",
      "47%\n",
      "0:01:28\n",
      "48%\n",
      "0:01:31\n",
      "49%\n",
      "0:01:34\n",
      "50%\n",
      "0:01:36\n",
      "50%\n",
      "0:01:39\n",
      "51%\n",
      "0:01:42\n",
      "52%\n",
      "0:01:47\n",
      "53%\n",
      "0:01:52\n",
      "53%\n",
      "0:01:54\n",
      "54%\n",
      "0:01:59\n",
      "55%\n",
      "0:02:01\n",
      "56%\n",
      "0:02:03\n",
      "57%\n",
      "0:02:07\n",
      "57%\n",
      "0:02:13\n",
      "58%\n",
      "0:02:18\n",
      "59%\n",
      "0:02:22\n",
      "60%\n",
      "0:02:24\n",
      "60%\n",
      "0:02:28\n",
      "61%\n",
      "0:02:29\n",
      "62%\n",
      "0:02:36\n",
      "63%\n",
      "0:02:39\n",
      "64%\n",
      "0:02:44\n",
      "64%\n",
      "0:02:47\n",
      "65%\n",
      "0:02:50\n",
      "66%\n",
      "0:02:55\n",
      "67%\n",
      "0:02:58\n",
      "67%\n",
      "0:03:02\n",
      "68%\n",
      "0:03:04\n",
      "69%\n",
      "0:03:06\n",
      "70%\n",
      "0:03:07\n",
      "71%\n",
      "0:03:08\n",
      "71%\n",
      "0:03:08\n",
      "72%\n",
      "0:03:08\n",
      "73%\n",
      "0:03:10\n",
      "74%\n",
      "0:03:11\n",
      "75%\n",
      "0:03:14\n",
      "75%\n",
      "0:03:15\n",
      "76%\n",
      "0:03:16\n",
      "77%\n",
      "0:03:16\n",
      "78%\n",
      "0:03:18\n",
      "78%\n",
      "0:03:18\n",
      "79%\n",
      "0:03:19\n",
      "80%\n",
      "0:03:19\n",
      "81%\n",
      "0:03:19\n",
      "82%\n",
      "0:03:20\n",
      "82%\n",
      "0:03:21\n",
      "83%\n",
      "0:03:22\n",
      "84%\n",
      "0:03:22\n",
      "85%\n",
      "0:03:23\n",
      "85%\n",
      "0:03:24\n",
      "86%\n",
      "0:03:24\n",
      "87%\n",
      "0:03:25\n",
      "88%\n",
      "0:03:25\n",
      "89%\n",
      "0:03:25\n",
      "89%\n",
      "0:03:26\n",
      "90%\n",
      "0:03:26\n",
      "91%\n",
      "0:03:26\n",
      "92%\n",
      "0:03:27\n",
      "92%\n",
      "0:03:27\n",
      "93%\n",
      "0:03:27\n",
      "94%\n",
      "0:03:28\n",
      "95%\n",
      "0:03:30\n",
      "96%\n",
      "0:03:31\n",
      "96%\n",
      "0:03:33\n",
      "97%\n",
      "0:03:34\n",
      "98%\n",
      "0:03:35\n",
      "99%\n",
      "0:03:35\n",
      "100%\n",
      "0:03:36\n"
     ]
    }
   ],
   "source": [
    "new_dict = umls_tables_processing.discarding_labels_oov(vocab, seed_rel)    "
   ]
  },
  {
   "cell_type": "code",
   "execution_count": 21,
   "id": "technological-curve",
   "metadata": {},
   "outputs": [
    {
     "name": "stdout",
     "output_type": "stream",
     "text": [
      "120/256\n"
     ]
    }
   ],
   "source": [
    "print(str(len(new_dict))+'/'+str(len(copd_cuis)))"
   ]
  },
  {
   "cell_type": "markdown",
   "id": "altered-antibody",
   "metadata": {},
   "source": [
    "Notice: the number of seed elements is lower than usual. The OOVs have been deleted"
   ]
  },
  {
   "cell_type": "code",
   "execution_count": 23,
   "id": "received-vampire",
   "metadata": {},
   "outputs": [],
   "source": [
    "seed_analog_polish = umls_tables_processing.seed_analogy_labels(seed_analog_one, new_dict)"
   ]
  },
  {
   "cell_type": "markdown",
   "id": "desperate-contrary",
   "metadata": {},
   "source": [
    "We obtained a dictionary of dictionaries: the first key is represented by a relation. For each relation a dictionary with a CUI as key and a list of labels (preferred and not) as value"
   ]
  },
  {
   "cell_type": "markdown",
   "id": "republican-organ",
   "metadata": {},
   "source": [
    "The idea would be make a data structure of all the elements linked with the same relations seen in `COPD`. "
   ]
  },
  {
   "cell_type": "markdown",
   "id": "timely-vulnerability",
   "metadata": {},
   "source": [
    "We started with all the pairs by relation:"
   ]
  },
  {
   "cell_type": "code",
   "execution_count": 28,
   "id": "perceived-march",
   "metadata": {},
   "outputs": [
    {
     "name": "stdout",
     "output_type": "stream",
     "text": [
      "36\n",
      "0:01:03\n",
      "0:01:03\n"
     ]
    }
   ],
   "source": [
    "#t = datetime.datetime.now().replace(microsecond=0)\n",
    "#seed_pairs = {}\n",
    "#list_rels = list(seed_analog_polish.keys())\n",
    "#list_rels.remove('')\n",
    "#seed_pairs = umls_tables_processing.count_pairs(list_rels)\n",
    "#print(datetime.datetime.now().replace(microsecond=0)-t) "
   ]
  },
  {
   "cell_type": "markdown",
   "id": "veterinary-peripheral",
   "metadata": {},
   "source": [
    "For avoiding the building of dictionary, it is locally saved and loaded"
   ]
  },
  {
   "cell_type": "markdown",
   "id": "decreased-authority",
   "metadata": {},
   "source": [
    "The duplicated pairs (if exist) for each relation are discarded."
   ]
  },
  {
   "cell_type": "code",
   "execution_count": 31,
   "id": "incorporated-recipient",
   "metadata": {},
   "outputs": [],
   "source": [
    "seed_pairs = utils.inputs_load('Utilities/pairs_for_relation')\n",
    "seed_pairs = {k:list(set(v)) for k,v in seed_pairs.items()}"
   ]
  },
  {
   "cell_type": "markdown",
   "id": "sonic-belly",
   "metadata": {},
   "source": [
    "A list of all involved CUIs is built"
   ]
  },
  {
   "cell_type": "code",
   "execution_count": 33,
   "id": "sophisticated-peace",
   "metadata": {},
   "outputs": [
    {
     "name": "stdout",
     "output_type": "stream",
     "text": [
      "Relation entry_version_of is done\n",
      "Relation mapped_to is done\n",
      "Relation has_entry_version is done\n",
      "Relation inverse_isa is done\n",
      "Relation same_as is done\n",
      "Relation see_from is done\n",
      "Relation see is done\n",
      "Relation mapped_from is done\n",
      "Relation isa is done\n",
      "Relation used_for is done\n",
      "Relation replaced_by is done\n",
      "Relation subset_includes_concept is done\n",
      "Relation use is done\n",
      "Relation has_fragments_for_synonyms is done\n",
      "Relation has_expanded_form is done\n",
      "Relation expanded_form_of is done\n",
      "Relation has_answer is done\n",
      "Relation possibly_equivalent_to is done\n",
      "Relation contraindicated_with_disease is done\n",
      "Relation finding_site_of is done\n",
      "Relation cdrh_parent_of is done\n",
      "Relation has_manifestation is done\n",
      "Relation has_associated_finding is done\n",
      "Relation associated_morphology_of is done\n",
      "Relation may_treat is done\n",
      "Relation classified_as is done\n",
      "Relation related_to is done\n",
      "Relation was_a is done\n",
      "Relation inverse_was_a is done\n",
      "Relation has_focus is done\n",
      "Relation has_cdrh_parent is done\n",
      "Relation clinical_course_of is done\n",
      "Relation course_of is done\n",
      "Relation is_associated_anatomic_site_of is done\n",
      "Relation gene_associated_with_disease is done\n",
      "Relation gene_product_malfunction_associated_with_disease is done\n"
     ]
    }
   ],
   "source": [
    "asda = set()\n",
    "for k,v in seed_pairs.items():\n",
    "    tmp = [item for sublist in v for item in sublist]\n",
    "    asda.update(tmp)\n",
    "    print('Relation ' +k+ ' is done')\n",
    "\n",
    "all_cuis_involved = list(asda)"
   ]
  },
  {
   "cell_type": "code",
   "execution_count": 35,
   "id": "limited-barbados",
   "metadata": {},
   "outputs": [
    {
     "data": {
      "text/plain": [
       "1340127"
      ]
     },
     "execution_count": 35,
     "metadata": {},
     "output_type": "execute_result"
    }
   ],
   "source": [
    "len(all_cuis_involved)"
   ]
  },
  {
   "cell_type": "markdown",
   "id": "french-bahamas",
   "metadata": {},
   "source": [
    "The number of all the CUIs having same relations of `COPD`concepts is very high"
   ]
  },
  {
   "cell_type": "markdown",
   "id": "personal-attendance",
   "metadata": {},
   "source": [
    "A dictionary with all the involved CUIs and the correspondent labels (preferred and not) is built"
   ]
  },
  {
   "cell_type": "code",
   "execution_count": 36,
   "id": "happy-breast",
   "metadata": {},
   "outputs": [
    {
     "name": "stdout",
     "output_type": "stream",
     "text": [
      "0:00:02\n"
     ]
    }
   ],
   "source": [
    "all_labels_involved, _ = umls_tables_processing.extracting_strings(all_cuis_involved, dict_conso)"
   ]
  },
  {
   "cell_type": "code",
   "execution_count": 38,
   "id": "right-gilbert",
   "metadata": {},
   "outputs": [
    {
     "data": {
      "text/plain": [
       "4489335"
      ]
     },
     "execution_count": 38,
     "metadata": {},
     "output_type": "execute_result"
    }
   ],
   "source": [
    "len([i for k, v in all_labels_involved.items() for i in v])"
   ]
  },
  {
   "cell_type": "code",
   "execution_count": 39,
   "id": "inside-nelson",
   "metadata": {},
   "outputs": [
    {
     "data": {
      "text/plain": [
       "3.3499325063967818"
      ]
     },
     "execution_count": 39,
     "metadata": {},
     "output_type": "execute_result"
    }
   ],
   "source": [
    "len([i for k, v in all_labels_involved.items() for i in v])/len(all_cuis_involved)"
   ]
  },
  {
   "cell_type": "markdown",
   "id": "relative-novelty",
   "metadata": {},
   "source": [
    "For each CUI there are ~4 labels, raising even more the already high number of concepts: at this point discarding OOV elements is a key-operation"
   ]
  },
  {
   "cell_type": "markdown",
   "id": "first-phoenix",
   "metadata": {},
   "source": [
    "With the `discarding_labels_oov` method is impossible proceed"
   ]
  },
  {
   "cell_type": "code",
   "execution_count": null,
   "id": "minimal-jonathan",
   "metadata": {},
   "outputs": [],
   "source": [
    "all_labels_involved = umls_tables_processing.discarding_labels_oov(vocab, all_labels_involved)"
   ]
  },
  {
   "cell_type": "markdown",
   "id": "alpine-florida",
   "metadata": {},
   "source": [
    "and even with a lambda function the process employs more than 10 days. And the actual measure of analogy still missing, where a confrontation between `COPD` seed labels and this huge one has to be performed"
   ]
  },
  {
   "cell_type": "code",
   "execution_count": 41,
   "id": "egyptian-disco",
   "metadata": {},
   "outputs": [
    {
     "name": "stdout",
     "output_type": "stream",
     "text": [
      "0:00:22\n"
     ]
    }
   ],
   "source": [
    "a = datetime.datetime.now().replace(microsecond=0)\n",
    "g = [list(filter(lambda x: x in vocab, sublist)) for sublist in list(all_labels_involved.values())[:100]]\n",
    "print(datetime.datetime.now().replace(microsecond=0)-a)"
   ]
  },
  {
   "cell_type": "code",
   "execution_count": 42,
   "id": "wired-banks",
   "metadata": {},
   "outputs": [
    {
     "data": {
      "text/plain": [
       "274.34825"
      ]
     },
     "execution_count": 42,
     "metadata": {},
     "output_type": "execute_result"
    }
   ],
   "source": [
    "(len([i for k, v in all_labels_involved.items() for i in v])*(22/100))/3600"
   ]
  },
  {
   "cell_type": "code",
   "execution_count": null,
   "id": "decreased-gallery",
   "metadata": {},
   "outputs": [],
   "source": []
  }
 ],
 "metadata": {
  "kernelspec": {
   "display_name": "Python 3",
   "language": "python",
   "name": "python3"
  },
  "language_info": {
   "codemirror_mode": {
    "name": "ipython",
    "version": 3
   },
   "file_extension": ".py",
   "mimetype": "text/x-python",
   "name": "python",
   "nbconvert_exporter": "python",
   "pygments_lexer": "ipython3",
   "version": "3.8.0"
  }
 },
 "nbformat": 4,
 "nbformat_minor": 5
}
