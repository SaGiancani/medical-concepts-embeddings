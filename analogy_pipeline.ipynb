{
 "cells": [
  {
   "cell_type": "code",
   "execution_count": 1,
   "id": "educational-surgery",
   "metadata": {},
   "outputs": [
    {
     "name": "stdout",
     "output_type": "stream",
     "text": [
      "0:06:05\n"
     ]
    },
    {
     "name": "stderr",
     "output_type": "stream",
     "text": [
      "Matplotlib created a temporary config/cache directory at /tmp/matplotlib-2v_48f5q because the default path (/home/salvatore/.cache/matplotlib) is not a writable directory; it is highly recommended to set the MPLCONFIGDIR environment variable to a writable directory, in particular to speed up the import of Matplotlib and to better support multiprocessing.\n"
     ]
    }
   ],
   "source": [
    "import measures, umls_tables_processing, utils\n",
    "import datetime\n",
    "from collections import defaultdict\n",
    "\n",
    "from gensim.models import KeyedVectors, Word2Vec\n",
    "from gensim.test.utils import datapath\n",
    "# import data_visualization\n",
    "\n",
    "import matplotlib\n",
    "import matplotlib.cm as cm\n",
    "import matplotlib.pyplot as plt\n",
    "\n",
    "import numpy as np\n",
    "import os\n",
    "import pandas as pd\n"
   ]
  },
  {
   "cell_type": "markdown",
   "id": "instrumental-identity",
   "metadata": {},
   "source": [
    "### Processing MRREL table: elaboration of relationships and evaluation of which is more proper"
   ]
  },
  {
   "cell_type": "code",
   "execution_count": 37,
   "id": "appreciated-radical",
   "metadata": {},
   "outputs": [
    {
     "name": "stdout",
     "output_type": "stream",
     "text": [
      "844\n",
      "0:01:06\n"
     ]
    }
   ],
   "source": [
    "_ = umls_tables_processing.count_relationships(rel_type = 'RELA')"
   ]
  },
  {
   "cell_type": "markdown",
   "id": "impressed-luxury",
   "metadata": {},
   "source": [
    "This is the number of all the relationships `RELA` in the whole UMLS: they correspond to the particular relationships"
   ]
  },
  {
   "cell_type": "code",
   "execution_count": 3,
   "id": "stylish-harrison",
   "metadata": {},
   "outputs": [
    {
     "name": "stdout",
     "output_type": "stream",
     "text": [
      "10\n",
      "0:02:41\n"
     ]
    },
    {
     "data": {
      "text/plain": [
       "{'AQ', 'CHD', 'PAR', 'QB', 'RB', 'RN', 'RO', 'RQ', 'SIB', 'SY'}"
      ]
     },
     "execution_count": 3,
     "metadata": {},
     "output_type": "execute_result"
    }
   ],
   "source": [
    "umls_tables_processing.count_relationships(rel_type = 'REL')"
   ]
  },
  {
   "cell_type": "markdown",
   "id": "persistent-subdivision",
   "metadata": {},
   "source": [
    "These are the `REL` relationships and the total number: they correspond to generical relationships"
   ]
  },
  {
   "cell_type": "markdown",
   "id": "concrete-speaking",
   "metadata": {},
   "source": [
    "The following lines tell us which are the relationship which link the 256 elements of the seed with the concept `COPD`: this is an evolution of the original seed building method."
   ]
  },
  {
   "cell_type": "code",
   "execution_count": 4,
   "id": "advanced-overview",
   "metadata": {},
   "outputs": [
    {
     "name": "stdout",
     "output_type": "stream",
     "text": [
      "Relation '' discarded \n"
     ]
    }
   ],
   "source": [
    "double_rel = umls_tables_processing.concepts_related_to_concept(two_way = True, polishing_rels = True, switch_key= 'con')"
   ]
  },
  {
   "cell_type": "code",
   "execution_count": 5,
   "id": "lucky-annual",
   "metadata": {},
   "outputs": [
    {
     "name": "stdout",
     "output_type": "stream",
     "text": [
      "Relation '' discarded \n"
     ]
    }
   ],
   "source": [
    "single_rel = umls_tables_processing.concepts_related_to_concept(two_way = False, polishing_rels = True, switch_key= 'con')"
   ]
  },
  {
   "cell_type": "markdown",
   "id": "prescribed-winner",
   "metadata": {},
   "source": [
    "The two lines distinguish the both ways relationships from the one way."
   ]
  },
  {
   "cell_type": "markdown",
   "id": "unique-recipient",
   "metadata": {},
   "source": [
    "#### Double ways"
   ]
  },
  {
   "cell_type": "code",
   "execution_count": 6,
   "id": "public-nickname",
   "metadata": {},
   "outputs": [
    {
     "name": "stdout",
     "output_type": "stream",
     "text": [
      "{'disease_has_associated_gene', 'may_be_treated_by', 'disease_has_associated_anatomic_site', 'focus_of', 'is_associated_anatomic_site_of', 'fragments_for_synonyms_of', 'contraindicated_with_disease', 'has_fragments_for_synonyms', 'was_a', 'classified_as', 'same_as', 'has_finding_site', 'possibly_equivalent_to', 'inverse_was_a', 'inverse_isa', 'finding_site_of', 'has_associated_morphology', 'entry_version_of', 'see_from', 'has_course', 'has_cdrh_parent', 'has_focus', 'replaces', 'has_expanded_form', 'expanded_form_of', 'cdrh_parent_of', 'has_entry_version', 'associated_with_malfunction_of_gene_product', 'associated_morphology_of', 'subset_includes_concept', 'clinical_course_of', 'use', 'related_to', 'isa', 'used_for', 'gene_associated_with_disease', 'has_answer', 'has_contraindicated_drug', 'answer_to', 'has_associated_finding', 'replaced_by', 'has_clinical_course', 'mapped_from', 'concept_in_subset', 'may_treat', 'classifies', 'gene_product_malfunction_associated_with_disease', 'see', 'mapped_to', 'has_manifestation', 'associated_finding_of', 'manifestation_of', 'course_of'}\n",
      "53\n"
     ]
    }
   ],
   "source": [
    "_ = set([i for j in double_rel.values() for i in j])\n",
    "print(_)\n",
    "print(len(_))"
   ]
  },
  {
   "cell_type": "markdown",
   "id": "valid-transportation",
   "metadata": {},
   "source": [
    "#### One way"
   ]
  },
  {
   "cell_type": "code",
   "execution_count": 7,
   "id": "perfect-marks",
   "metadata": {},
   "outputs": [
    {
     "name": "stdout",
     "output_type": "stream",
     "text": [
      "{'is_associated_anatomic_site_of', 'contraindicated_with_disease', 'has_fragments_for_synonyms', 'was_a', 'classified_as', 'same_as', 'possibly_equivalent_to', 'inverse_was_a', 'inverse_isa', 'finding_site_of', 'has_focus', 'entry_version_of', 'see_from', 'has_cdrh_parent', 'has_expanded_form', 'expanded_form_of', 'cdrh_parent_of', 'has_entry_version', 'associated_morphology_of', 'subset_includes_concept', 'clinical_course_of', 'use', 'related_to', 'isa', 'used_for', 'gene_associated_with_disease', 'has_answer', 'has_associated_finding', 'replaced_by', 'mapped_from', 'may_treat', 'gene_product_malfunction_associated_with_disease', 'see', 'mapped_to', 'has_manifestation', 'course_of'}\n",
      "36\n"
     ]
    }
   ],
   "source": [
    "_ = set([i for j in single_rel.values() for i in j])\n",
    "print(_)\n",
    "print(len(_))"
   ]
  },
  {
   "cell_type": "markdown",
   "id": "lesbian-appliance",
   "metadata": {},
   "source": [
    "#### Building the seed for analogic evaluation: we obtain lists of CUIs for each relationship in which they're involved with COPD"
   ]
  },
  {
   "cell_type": "code",
   "execution_count": 4,
   "id": "associate-authentication",
   "metadata": {},
   "outputs": [
    {
     "name": "stdout",
     "output_type": "stream",
     "text": [
      "0:02:15\n",
      "256\n",
      "Time for extracting labels: 0:00:00\n",
      "Extracting time: 0:02:15\n",
      "Building seed time: 0:03:37\n",
      "54\n"
     ]
    }
   ],
   "source": [
    "seed_analog_both = umls_tables_processing.concepts_related_to_concept(two_way = True, switch_key = 'rel', extract_labels = True)\n",
    "print(len(seed_analog_both))\n",
    "#seed_analog_both"
   ]
  },
  {
   "cell_type": "code",
   "execution_count": 4,
   "id": "lyric-victorian",
   "metadata": {},
   "outputs": [
    {
     "name": "stdout",
     "output_type": "stream",
     "text": [
      "0:00:52\n",
      "37\n"
     ]
    }
   ],
   "source": [
    "seed_analog_one = umls_tables_processing.concepts_related_to_concept(two_way = False, switch_key = 'rel')\n",
    "print(len(seed_analog_one))\n",
    "#seed_analog_one"
   ]
  },
  {
   "cell_type": "markdown",
   "id": "macro-israeli",
   "metadata": {},
   "source": [
    "In place of building the list of copd-related CUIs, the seed_analog_one is re-elaborated for returning a list of concepts."
   ]
  },
  {
   "cell_type": "markdown",
   "id": "strong-monroe",
   "metadata": {},
   "source": [
    "The seed_analog_one is used just for the reason it has not extracted labels, so it is more comfortable handling it."
   ]
  },
  {
   "cell_type": "code",
   "execution_count": 6,
   "id": "approved-context",
   "metadata": {},
   "outputs": [],
   "source": [
    "tmp = [v for k,v in seed_analog_one.items()]\n",
    "concepts = list(set([i for j in tmp for i in j]))"
   ]
  },
  {
   "cell_type": "markdown",
   "id": "applied-berry",
   "metadata": {},
   "source": [
    "In counting the number of RELA relationships, the second approach return one more relation: it is due to the presence of the emtpy relation `''`"
   ]
  },
  {
   "cell_type": "markdown",
   "id": "sunrise-logistics",
   "metadata": {},
   "source": [
    "The `''` relation is problematic because contains plenty of key-concepts for our case and it is more similar to the concept of `relatedness`"
   ]
  },
  {
   "cell_type": "markdown",
   "id": "municipal-camping",
   "metadata": {},
   "source": [
    "The two sets of L and K are built: the boundary for the first is just the presence of relationships COPD-related."
   ]
  },
  {
   "cell_type": "code",
   "execution_count": 7,
   "id": "welsh-marker",
   "metadata": {},
   "outputs": [],
   "source": [
    "all_copd_relations = list(seed_analog_both.keys())"
   ]
  },
  {
   "cell_type": "markdown",
   "id": "assumed-charm",
   "metadata": {},
   "source": [
    "### A subset of the 53 relationships extracted from seed, is detected"
   ]
  },
  {
   "cell_type": "markdown",
   "id": "waiting-headline",
   "metadata": {},
   "source": [
    "#### Used relationships (RELA)"
   ]
  },
  {
   "cell_type": "markdown",
   "id": "medical-chrome",
   "metadata": {},
   "source": [
    "They are choosen by hand"
   ]
  },
  {
   "cell_type": "code",
   "execution_count": 5,
   "id": "oriental-snowboard",
   "metadata": {},
   "outputs": [
    {
     "data": {
      "text/plain": [
       "['associated_finding_of',\n",
       " 'associated_morphology_of',\n",
       " 'associated_with_malfunction_of_gene_product',\n",
       " 'clinical_course_of',\n",
       " 'contraindicated_with_disease',\n",
       " 'course_of',\n",
       " 'disease_has_associated_anatomic_site',\n",
       " 'disease_has_associated_gene',\n",
       " 'finding_site_of',\n",
       " 'gene_associated_with_disease',\n",
       " 'gene_product_malfunction_associated_with_disease',\n",
       " 'has_associated_finding',\n",
       " 'has_associated_morphology',\n",
       " 'has_clinical_course',\n",
       " 'has_contraindicated_drug',\n",
       " 'has_course',\n",
       " 'has_finding_site',\n",
       " 'has_manifestation',\n",
       " 'is_associated_anatomic_site_of',\n",
       " 'manifestation_of',\n",
       " 'may_be_treated_by',\n",
       " 'may_treat',\n",
       " '']"
      ]
     },
     "execution_count": 5,
     "metadata": {},
     "output_type": "execute_result"
    }
   ],
   "source": [
    "useful_rela = umls_tables_processing.USEFUL_RELA\n",
    "useful_rela.append('')\n",
    "useful_rela"
   ]
  },
  {
   "cell_type": "markdown",
   "id": "adjustable-walnut",
   "metadata": {},
   "source": [
    "Building of K sets: two sets are built, one with both elements related to COPD and the other one to all the pairs which at least an element belonging to seed (the 256 elements extracted to one hop far by COPD concept)  "
   ]
  },
  {
   "cell_type": "code",
   "execution_count": null,
   "id": "cross-column",
   "metadata": {},
   "outputs": [],
   "source": [
    "concepts = umls_tables_processing.concepts_related_to_concept(concept = umls_tables_processing.COPD,\n",
    "                                                              two_way = True,\n",
    "                                                              polishing_rels = False,\n",
    "                                                              switch_key = 'con',\n",
    "                                                              extract_labels = False)\n",
    "\n",
    "K_umls_copd = umls_tables_processing.count_pairs(umls_tables_processing.USEFUL_RELA, \n",
    "                                                 cuis_list = [umls_tables_processing.COPD])\n"
   ]
  },
  {
   "cell_type": "code",
   "execution_count": 2,
   "id": "established-bailey",
   "metadata": {},
   "outputs": [
    {
     "name": "stdout",
     "output_type": "stream",
     "text": [
      "0:00:00\n"
     ]
    }
   ],
   "source": [
    "K_umls_copd = utils.inputs_load('Utilities/K_umls_copd')"
   ]
  },
  {
   "cell_type": "code",
   "execution_count": null,
   "id": "architectural-gauge",
   "metadata": {},
   "outputs": [],
   "source": [
    "K_umls = umls_tables_processing.count_pairs(useful_rela, cuis_list = concepts)"
   ]
  },
  {
   "cell_type": "code",
   "execution_count": 3,
   "id": "atomic-freedom",
   "metadata": {},
   "outputs": [
    {
     "name": "stdout",
     "output_type": "stream",
     "text": [
      "0:00:03\n"
     ]
    }
   ],
   "source": [
    "K_umls = utils.inputs_load('Utilities/K_umls')"
   ]
  },
  {
   "cell_type": "code",
   "execution_count": null,
   "id": "powered-livestock",
   "metadata": {},
   "outputs": [],
   "source": [
    "L_umls = umls_tables_processing.count_pairs(umls_tables_processing.USEFUL_RELA)"
   ]
  },
  {
   "cell_type": "code",
   "execution_count": 4,
   "id": "aggressive-permission",
   "metadata": {},
   "outputs": [
    {
     "name": "stdout",
     "output_type": "stream",
     "text": [
      "0:00:37\n"
     ]
    }
   ],
   "source": [
    "L_umls = utils.inputs_load('Utilities/L_umls')"
   ]
  },
  {
   "cell_type": "markdown",
   "id": "english-cherry",
   "metadata": {},
   "source": [
    "### Building a dictionary with all the CUIs of L_umls and the correspondent labels."
   ]
  },
  {
   "cell_type": "markdown",
   "id": "musical-commercial",
   "metadata": {},
   "source": [
    "- 1 step: a set of unique CUIs taken from the pairs of L_umls is built. \n",
    "-  2 step: for each, all the correspondent labels are extracted.\n",
    "##### A dictionary built in this way could be used in `analogy_compute` and it is even useful for building the K set"
   ]
  },
  {
   "cell_type": "markdown",
   "id": "hollywood-supplement",
   "metadata": {},
   "source": [
    "####  A good way to operate could be filtering the `dict_labels_for_L` with the Vocabular of embedding: performing an intersection"
   ]
  },
  {
   "cell_type": "markdown",
   "id": "insured-vegetable",
   "metadata": {},
   "source": [
    "This process is the step before running the analogy pipeline for w2v embeddings."
   ]
  },
  {
   "cell_type": "code",
   "execution_count": null,
   "id": "listed-headquarters",
   "metadata": {},
   "outputs": [],
   "source": [
    "# Building the dictionary for labels case\n",
    "# Collecting all the CUIs involved in set L\n",
    "jh = []\n",
    "for v in L_umls.values():\n",
    "    jh.append(list(set(list(zip(*v))[0])))\n",
    "    jh.append(list(set(list(zip(*v))[1])))\n",
    "    tmp = set([j for i in jh for j in i ])\n",
    "dict_strings = umls_tables_processing.cui_strings()    \n",
    "dict_labels_for_L, _ = umls_tables_processing.extracting_strings(list(tmp), dict_strings = dict_strings)"
   ]
  },
  {
   "cell_type": "code",
   "execution_count": 4,
   "id": "difficult-collar",
   "metadata": {},
   "outputs": [
    {
     "name": "stdout",
     "output_type": "stream",
     "text": [
      "0:00:17\n"
     ]
    }
   ],
   "source": [
    "dict_labels_for_L = utils.inputs_load('Utilities/dict_labels_for_L')"
   ]
  },
  {
   "cell_type": "markdown",
   "id": "molecular-milan",
   "metadata": {},
   "source": [
    "### Loading all the embeddings paths for evaluating the cardinality of filtered IoV pairs."
   ]
  },
  {
   "cell_type": "markdown",
   "id": "bronze-namibia",
   "metadata": {},
   "source": [
    "Loading models and used variables"
   ]
  },
  {
   "cell_type": "code",
   "execution_count": 5,
   "id": "incoming-updating",
   "metadata": {},
   "outputs": [
    {
     "data": {
      "text/plain": [
       "[('/cuis/',\n",
       "  ['claims_cuis_hs_300.txt.gz',\n",
       "   'stanford_cuis_svd_300.txt.gz',\n",
       "   'cui2vec_pretrained.txt',\n",
       "   'DeVine_etal_200.txt']),\n",
       " ('/words/',\n",
       "  ['PMC-w2v.bin',\n",
       "   'Health_2.5mreviews.s200.w10.n5.v15.cbow.bin',\n",
       "   'PubMed-and-PMC-w2v.bin',\n",
       "   'GoogleNews-vectors-negative300.bin',\n",
       "   'PubMed-w2v.bin',\n",
       "   'tweetsvec.txt',\n",
       "   'wikipedia-pubmed-and-PMC-w2v.bin'])]"
      ]
     },
     "execution_count": 5,
     "metadata": {},
     "output_type": "execute_result"
    }
   ],
   "source": [
    "PATH_EMBEDDINGS = './Embeddings'\n",
    "sets_relations = defaultdict(list)\n",
    "\n",
    "cuis = ('/cuis/', [f.name for f in scandir(PATH_EMBEDDINGS+'/cuis') if (f.is_file())&(f.name != 'README.md')])\n",
    "words = ('/words/', [f.name for f in scandir(PATH_EMBEDDINGS+'/words') if (f.is_file())&(f.name != 'README.md')])\n",
    "embeddings = [cuis, words]\n",
    "embeddings"
   ]
  },
  {
   "cell_type": "markdown",
   "id": "serial-sierra",
   "metadata": {},
   "source": [
    "### Cardinality of filtered sets per relation:"
   ]
  },
  {
   "cell_type": "markdown",
   "id": "interested-squad",
   "metadata": {},
   "source": [
    "The code is taken from `analogy_pipeline` script"
   ]
  },
  {
   "cell_type": "code",
   "execution_count": null,
   "id": "hindu-ceiling",
   "metadata": {},
   "outputs": [],
   "source": [
    "a = datetime.datetime.now().replace(microsecond=0)\n",
    "\n",
    "# Loop over the relations\n",
    "for type_emb in embeddings:\n",
    "    for emb in type_emb[1]:\n",
    "        model = KeyedVectors.load_word2vec_format(PATH_EMBEDDINGS+type_emb[0]+emb, binary=emb.endswith('.bin'))\n",
    "        name = os.path.splitext(emb)[0]\n",
    "        print('Embedding ' + str(name) + ' is analyzed')\n",
    "        for rela in useful_rela:\n",
    "            # Check type of embedding\n",
    "            if type_emb[0]=='/cuis/':\n",
    "                c = datetime.datetime.now().replace(microsecond=0)\n",
    "                l0, k0 = measures.k_n_l_iov(L_umls[rela], \n",
    "                                            K_umls[rela],\n",
    "                                            model, \n",
    "                                            emb_type = 'cui')\n",
    "\n",
    "                # sets_relations keeps track of the number of pairs of K and L sets. \n",
    "                # The number of filtered pairs on Vemb, per relation are stored\n",
    "                sets_relations[rela].append(('L_'+name, np.shape(l0)))\n",
    "                sets_relations[rela].append(('K_'+name, np.shape(k0)))\n",
    "                #print(rela + ' for ' + name + ' finished!')\n",
    "                    \n",
    "            # Check type of embedding: for word embeddings the dictionary of labels per cui is required\n",
    "            elif (type_emb[0]=='/words/') and (dict_labels_for_L is not None):\n",
    "                c = datetime.datetime.now().replace(microsecond=0)\n",
    "            \n",
    "                # Filter the dictionary of labels keeping only the labels-words present into the embedding\n",
    "                Vemb = utils.extract_w2v_vocab(model)\n",
    "                dict_labels_inters_vemb = umls_tables_processing.discarding_labels_oov(Vemb, dict_labels_for_L)\n",
    "            \n",
    "                # Filtering L and K sets for present labels inside the embedding\n",
    "                l0, k0 = measures.k_n_l_iov(L_umls[rela], \n",
    "                                            K_umls[rela],\n",
    "                                            model, \n",
    "                                            dict_labels_for_L = dict_labels_inters_vemb,\n",
    "                                            emb_type = 'labels')\n",
    "        \n",
    "                # Store number of filtered pairs\n",
    "                sets_relations[rela].append(('L_'+name, np.shape(l0)))\n",
    "                sets_relations[rela].append(('K_'+name, np.shape(k0)))\n",
    "\n",
    "utils.inputs_save(sets_relations, 'Utilities/rela_dict_wor')                \n",
    "print('Execution time : ' + str(datetime.datetime.now().replace(microsecond=0) - a) + '\\n')"
   ]
  },
  {
   "cell_type": "code",
   "execution_count": 12,
   "id": "square-prior",
   "metadata": {},
   "outputs": [],
   "source": [
    "for rela in useful_rela:\n",
    "    sets_relations[rela].append(('L', np.shape(L_umls[rela])))\n",
    "    sets_relations[rela].append(('K', np.shape(K_umls[rela])))\n",
    "utils.inputs_save(sets_relations, 'Utilities/rela_dict_wor')"
   ]
  },
  {
   "cell_type": "code",
   "execution_count": 63,
   "id": "joint-venice",
   "metadata": {
    "scrolled": true
   },
   "outputs": [
    {
     "name": "stdout",
     "output_type": "stream",
     "text": [
      "0:00:00\n"
     ]
    }
   ],
   "source": [
    "sets_relations_r = utils.inputs_load('Utilities/rela_dict')"
   ]
  },
  {
   "cell_type": "code",
   "execution_count": 64,
   "id": "exotic-converter",
   "metadata": {},
   "outputs": [
    {
     "data": {
      "text/plain": [
       "defaultdict(list,\n",
       "            {'associated_finding_of': [('L_claims_cuis_hs_300.txt', (97, 2)),\n",
       "              ('K_claims_cuis_hs_300.txt', (15, 2)),\n",
       "              ('L_stanford_cuis_svd_300.txt', (0,)),\n",
       "              ('K_stanford_cuis_svd_300.txt', (0,)),\n",
       "              ('L_cui2vec_pretrained', (1388, 2)),\n",
       "              ('K_cui2vec_pretrained', (118, 2)),\n",
       "              ('L_DeVine_etal_200', (684, 2)),\n",
       "              ('K_DeVine_etal_200', (43, 2)),\n",
       "              ('L_PMC-w2v', (290, 2)),\n",
       "              ('K_PMC-w2v', (18, 2)),\n",
       "              ('L_Health_2.5mreviews.s200.w10.n5.v15.cbow', (167, 2)),\n",
       "              ('K_Health_2.5mreviews.s200.w10.n5.v15.cbow', (5, 2)),\n",
       "              ('L_PubMed-and-PMC-w2v', (298, 2)),\n",
       "              ('K_PubMed-and-PMC-w2v', (18, 2)),\n",
       "              ('L_GoogleNews-vectors-negative300', (244, 2)),\n",
       "              ('K_GoogleNews-vectors-negative300', (17, 2)),\n",
       "              ('L_PubMed-w2v', (296, 2)),\n",
       "              ('K_PubMed-w2v', (18, 2)),\n",
       "              ('L_tweetsvec', (114, 2)),\n",
       "              ('K_tweetsvec', (5, 2)),\n",
       "              ('L_wikipedia-pubmed-and-PMC-w2v', (300, 2)),\n",
       "              ('K_wikipedia-pubmed-and-PMC-w2v', (18, 2)),\n",
       "              ('L', (12796, 2)),\n",
       "              ('K', (437, 2))],\n",
       "             'associated_morphology_of': [('L_claims_cuis_hs_300.txt',\n",
       "               (6522, 2)),\n",
       "              ('K_claims_cuis_hs_300.txt', (28, 2)),\n",
       "              ('L_stanford_cuis_svd_300.txt', (0,)),\n",
       "              ('K_stanford_cuis_svd_300.txt', (0,)),\n",
       "              ('L_cui2vec_pretrained', (51755, 2)),\n",
       "              ('K_cui2vec_pretrained', (1775, 2)),\n",
       "              ('L_DeVine_etal_200', (37425, 2)),\n",
       "              ('K_DeVine_etal_200', (1516, 2)),\n",
       "              ('L_PMC-w2v', (9904, 2)),\n",
       "              ('K_PMC-w2v', (311, 2)),\n",
       "              ('L_Health_2.5mreviews.s200.w10.n5.v15.cbow', (1446, 2)),\n",
       "              ('K_Health_2.5mreviews.s200.w10.n5.v15.cbow', (129, 2)),\n",
       "              ('L_PubMed-and-PMC-w2v', (11250, 2)),\n",
       "              ('K_PubMed-and-PMC-w2v', (336, 2)),\n",
       "              ('L_GoogleNews-vectors-negative300', (5635, 2)),\n",
       "              ('K_GoogleNews-vectors-negative300', (260, 2)),\n",
       "              ('L_PubMed-w2v', (11091, 2)),\n",
       "              ('K_PubMed-w2v', (336, 2)),\n",
       "              ('L_tweetsvec', (467, 2)),\n",
       "              ('K_tweetsvec', (71, 2)),\n",
       "              ('L_wikipedia-pubmed-and-PMC-w2v', (11339, 2)),\n",
       "              ('K_wikipedia-pubmed-and-PMC-w2v', (339, 2)),\n",
       "              ('L', (274157, 2)),\n",
       "              ('K', (5253, 2))],\n",
       "             'associated_with_malfunction_of_gene_product': [('L_claims_cuis_hs_300.txt',\n",
       "               (0,)),\n",
       "              ('K_claims_cuis_hs_300.txt', (0,)),\n",
       "              ('L_stanford_cuis_svd_300.txt', (0,)),\n",
       "              ('K_stanford_cuis_svd_300.txt', (0,)),\n",
       "              ('L_cui2vec_pretrained', (57, 2)),\n",
       "              ('K_cui2vec_pretrained', (14, 2)),\n",
       "              ('L_DeVine_etal_200', (26, 2)),\n",
       "              ('K_DeVine_etal_200', (6, 2)),\n",
       "              ('L_PMC-w2v', (270, 2)),\n",
       "              ('K_PMC-w2v', (27, 2)),\n",
       "              ('L_Health_2.5mreviews.s200.w10.n5.v15.cbow', (3, 2)),\n",
       "              ('K_Health_2.5mreviews.s200.w10.n5.v15.cbow', (1, 2)),\n",
       "              ('L_PubMed-and-PMC-w2v', (274, 2)),\n",
       "              ('K_PubMed-and-PMC-w2v', (27, 2)),\n",
       "              ('L_GoogleNews-vectors-negative300', (134, 2)),\n",
       "              ('K_GoogleNews-vectors-negative300', (19, 2)),\n",
       "              ('L_PubMed-w2v', (273, 2)),\n",
       "              ('K_PubMed-w2v', (27, 2)),\n",
       "              ('L_tweetsvec', (0,)),\n",
       "              ('K_tweetsvec', (0,)),\n",
       "              ('L_wikipedia-pubmed-and-PMC-w2v', (274, 2)),\n",
       "              ('K_wikipedia-pubmed-and-PMC-w2v', (27, 2)),\n",
       "              ('L', (509, 2)),\n",
       "              ('K', (33, 2))],\n",
       "             'clinical_course_of': [('L_claims_cuis_hs_300.txt', (0,)),\n",
       "              ('K_claims_cuis_hs_300.txt', (0,)),\n",
       "              ('L_stanford_cuis_svd_300.txt', (0,)),\n",
       "              ('K_stanford_cuis_svd_300.txt', (0,)),\n",
       "              ('L_cui2vec_pretrained', (906, 2)),\n",
       "              ('K_cui2vec_pretrained', (539, 2)),\n",
       "              ('L_DeVine_etal_200', (549, 2)),\n",
       "              ('K_DeVine_etal_200', (373, 2)),\n",
       "              ('L_PMC-w2v', (182, 2)),\n",
       "              ('K_PMC-w2v', (86, 2)),\n",
       "              ('L_Health_2.5mreviews.s200.w10.n5.v15.cbow', (27, 2)),\n",
       "              ('K_Health_2.5mreviews.s200.w10.n5.v15.cbow', (17, 2)),\n",
       "              ('L_PubMed-and-PMC-w2v', (199, 2)),\n",
       "              ('K_PubMed-and-PMC-w2v', (90, 2)),\n",
       "              ('L_GoogleNews-vectors-negative300', (128, 2)),\n",
       "              ('K_GoogleNews-vectors-negative300', (59, 2)),\n",
       "              ('L_PubMed-w2v', (196, 2)),\n",
       "              ('K_PubMed-w2v', (88, 2)),\n",
       "              ('L_tweetsvec', (17, 2)),\n",
       "              ('K_tweetsvec', (9, 2)),\n",
       "              ('L_wikipedia-pubmed-and-PMC-w2v', (201, 2)),\n",
       "              ('K_wikipedia-pubmed-and-PMC-w2v', (91, 2)),\n",
       "              ('L', (5648, 2)),\n",
       "              ('K', (2103, 2))],\n",
       "             'contraindicated_with_disease': [('L_claims_cuis_hs_300.txt',\n",
       "               (898, 2)),\n",
       "              ('K_claims_cuis_hs_300.txt', (122, 2)),\n",
       "              ('L_stanford_cuis_svd_300.txt', (0,)),\n",
       "              ('K_stanford_cuis_svd_300.txt', (0,)),\n",
       "              ('L_cui2vec_pretrained', (6233, 2)),\n",
       "              ('K_cui2vec_pretrained', (438, 2)),\n",
       "              ('L_DeVine_etal_200', (5491, 2)),\n",
       "              ('K_DeVine_etal_200', (400, 2)),\n",
       "              ('L_PMC-w2v', (2404, 2)),\n",
       "              ('K_PMC-w2v', (232, 2)),\n",
       "              ('L_Health_2.5mreviews.s200.w10.n5.v15.cbow', (720, 2)),\n",
       "              ('K_Health_2.5mreviews.s200.w10.n5.v15.cbow', (99, 2)),\n",
       "              ('L_PubMed-and-PMC-w2v', (2579, 2)),\n",
       "              ('K_PubMed-and-PMC-w2v', (241, 2)),\n",
       "              ('L_GoogleNews-vectors-negative300', (1620, 2)),\n",
       "              ('K_GoogleNews-vectors-negative300', (163, 2)),\n",
       "              ('L_PubMed-w2v', (2552, 2)),\n",
       "              ('K_PubMed-w2v', (241, 2)),\n",
       "              ('L_tweetsvec', (284, 2)),\n",
       "              ('K_tweetsvec', (44, 2)),\n",
       "              ('L_wikipedia-pubmed-and-PMC-w2v', (2585, 2)),\n",
       "              ('K_wikipedia-pubmed-and-PMC-w2v', (241, 2)),\n",
       "              ('L', (11175, 2)),\n",
       "              ('K', (811, 2))],\n",
       "             'course_of': [('L_claims_cuis_hs_300.txt', (0,)),\n",
       "              ('K_claims_cuis_hs_300.txt', (0,)),\n",
       "              ('L_stanford_cuis_svd_300.txt', (0,)),\n",
       "              ('K_stanford_cuis_svd_300.txt', (0,)),\n",
       "              ('L_cui2vec_pretrained', (1596, 2)),\n",
       "              ('K_cui2vec_pretrained', (533, 2)),\n",
       "              ('L_DeVine_etal_200', (1110, 2)),\n",
       "              ('K_DeVine_etal_200', (393, 2)),\n",
       "              ('L_PMC-w2v', (204, 2)),\n",
       "              ('K_PMC-w2v', (98, 2)),\n",
       "              ('L_Health_2.5mreviews.s200.w10.n5.v15.cbow', (54, 2)),\n",
       "              ('K_Health_2.5mreviews.s200.w10.n5.v15.cbow', (23, 2)),\n",
       "              ('L_PubMed-and-PMC-w2v', (215, 2)),\n",
       "              ('K_PubMed-and-PMC-w2v', (103, 2)),\n",
       "              ('L_GoogleNews-vectors-negative300', (146, 2)),\n",
       "              ('K_GoogleNews-vectors-negative300', (71, 2)),\n",
       "              ('L_PubMed-w2v', (214, 2)),\n",
       "              ('K_PubMed-w2v', (102, 2)),\n",
       "              ('L_tweetsvec', (31, 2)),\n",
       "              ('K_tweetsvec', (12, 2)),\n",
       "              ('L_wikipedia-pubmed-and-PMC-w2v', (217, 2)),\n",
       "              ('K_wikipedia-pubmed-and-PMC-w2v', (103, 2)),\n",
       "              ('L', (4808, 2)),\n",
       "              ('K', (1408, 2))],\n",
       "             'disease_has_associated_anatomic_site': [('L_claims_cuis_hs_300.txt',\n",
       "               (0,)),\n",
       "              ('K_claims_cuis_hs_300.txt', (0,)),\n",
       "              ('L_stanford_cuis_svd_300.txt', (0,)),\n",
       "              ('K_stanford_cuis_svd_300.txt', (0,)),\n",
       "              ('L_cui2vec_pretrained', (5803, 2)),\n",
       "              ('K_cui2vec_pretrained', (704, 2)),\n",
       "              ('L_DeVine_etal_200', (5024, 2)),\n",
       "              ('K_DeVine_etal_200', (610, 2)),\n",
       "              ('L_PMC-w2v', (1688, 2)),\n",
       "              ('K_PMC-w2v', (78, 2)),\n",
       "              ('L_Health_2.5mreviews.s200.w10.n5.v15.cbow', (212, 2)),\n",
       "              ('K_Health_2.5mreviews.s200.w10.n5.v15.cbow', (22, 2)),\n",
       "              ('L_PubMed-and-PMC-w2v', (1825, 2)),\n",
       "              ('K_PubMed-and-PMC-w2v', (81, 2)),\n",
       "              ('L_GoogleNews-vectors-negative300', (960, 2)),\n",
       "              ('K_GoogleNews-vectors-negative300', (66, 2)),\n",
       "              ('L_PubMed-w2v', (1800, 2)),\n",
       "              ('K_PubMed-w2v', (81, 2)),\n",
       "              ('L_tweetsvec', (66, 2)),\n",
       "              ('K_tweetsvec', (15, 2)),\n",
       "              ('L_wikipedia-pubmed-and-PMC-w2v', (1827, 2)),\n",
       "              ('K_wikipedia-pubmed-and-PMC-w2v', (81, 2)),\n",
       "              ('L', (38394, 2)),\n",
       "              ('K', (2401, 2))],\n",
       "             'disease_has_associated_gene': [('L_claims_cuis_hs_300.txt',\n",
       "               (0,)),\n",
       "              ('K_claims_cuis_hs_300.txt', (0,)),\n",
       "              ('L_stanford_cuis_svd_300.txt', (0,)),\n",
       "              ('K_stanford_cuis_svd_300.txt', (0,)),\n",
       "              ('L_cui2vec_pretrained', (5, 2)),\n",
       "              ('K_cui2vec_pretrained', (1, 2)),\n",
       "              ('L_DeVine_etal_200', (1, 2)),\n",
       "              ('K_DeVine_etal_200', (0,)),\n",
       "              ('L_PMC-w2v', (1017, 2)),\n",
       "              ('K_PMC-w2v', (105, 2)),\n",
       "              ('L_Health_2.5mreviews.s200.w10.n5.v15.cbow', (7, 2)),\n",
       "              ('K_Health_2.5mreviews.s200.w10.n5.v15.cbow', (3, 2)),\n",
       "              ('L_PubMed-and-PMC-w2v', (1060, 2)),\n",
       "              ('K_PubMed-and-PMC-w2v', (108, 2)),\n",
       "              ('L_GoogleNews-vectors-negative300', (486, 2)),\n",
       "              ('K_GoogleNews-vectors-negative300', (71, 2)),\n",
       "              ('L_PubMed-w2v', (903, 2)),\n",
       "              ('K_PubMed-w2v', (100, 2)),\n",
       "              ('L_tweetsvec', (1, 2)),\n",
       "              ('K_tweetsvec', (1, 2)),\n",
       "              ('L_wikipedia-pubmed-and-PMC-w2v', (1060, 2)),\n",
       "              ('K_wikipedia-pubmed-and-PMC-w2v', (108, 2)),\n",
       "              ('L', (2175, 2)),\n",
       "              ('K', (150, 2))],\n",
       "             'finding_site_of': [('L_claims_cuis_hs_300.txt', (24, 2)),\n",
       "              ('K_claims_cuis_hs_300.txt', (0,)),\n",
       "              ('L_stanford_cuis_svd_300.txt', (0,)),\n",
       "              ('K_stanford_cuis_svd_300.txt', (0,)),\n",
       "              ('L_cui2vec_pretrained', (71646, 2)),\n",
       "              ('K_cui2vec_pretrained', (2764, 2)),\n",
       "              ('L_DeVine_etal_200', (54727, 2)),\n",
       "              ('K_DeVine_etal_200', (2175, 2)),\n",
       "              ('L_PMC-w2v', (12660, 2)),\n",
       "              ('K_PMC-w2v', (637, 2)),\n",
       "              ('L_Health_2.5mreviews.s200.w10.n5.v15.cbow', (1890, 2)),\n",
       "              ('K_Health_2.5mreviews.s200.w10.n5.v15.cbow', (164, 2)),\n",
       "              ('L_PubMed-and-PMC-w2v', (14339, 2)),\n",
       "              ('K_PubMed-and-PMC-w2v', (706, 2)),\n",
       "              ('L_GoogleNews-vectors-negative300', (7425, 2)),\n",
       "              ('K_GoogleNews-vectors-negative300', (475, 2)),\n",
       "              ('L_PubMed-w2v', (14044, 2)),\n",
       "              ('K_PubMed-w2v', (705, 2)),\n",
       "              ('L_tweetsvec', (753, 2)),\n",
       "              ('K_tweetsvec', (105, 2)),\n",
       "              ('L_wikipedia-pubmed-and-PMC-w2v', (14472, 2)),\n",
       "              ('K_wikipedia-pubmed-and-PMC-w2v', (712, 2)),\n",
       "              ('L', (371662, 2)),\n",
       "              ('K', (7954, 2))],\n",
       "             'gene_associated_with_disease': [('L_claims_cuis_hs_300.txt',\n",
       "               (0,)),\n",
       "              ('K_claims_cuis_hs_300.txt', (0,)),\n",
       "              ('L_stanford_cuis_svd_300.txt', (0,)),\n",
       "              ('K_stanford_cuis_svd_300.txt', (0,)),\n",
       "              ('L_cui2vec_pretrained', (5, 2)),\n",
       "              ('K_cui2vec_pretrained', (1, 2)),\n",
       "              ('L_DeVine_etal_200', (1, 2)),\n",
       "              ('K_DeVine_etal_200', (0,)),\n",
       "              ('L_PMC-w2v', (1017, 2)),\n",
       "              ('K_PMC-w2v', (105, 2)),\n",
       "              ('L_Health_2.5mreviews.s200.w10.n5.v15.cbow', (7, 2)),\n",
       "              ('K_Health_2.5mreviews.s200.w10.n5.v15.cbow', (3, 2)),\n",
       "              ('L_PubMed-and-PMC-w2v', (1060, 2)),\n",
       "              ('K_PubMed-and-PMC-w2v', (108, 2)),\n",
       "              ('L_GoogleNews-vectors-negative300', (486, 2)),\n",
       "              ('K_GoogleNews-vectors-negative300', (71, 2)),\n",
       "              ('L_PubMed-w2v', (903, 2)),\n",
       "              ('K_PubMed-w2v', (100, 2)),\n",
       "              ('L_tweetsvec', (1, 2)),\n",
       "              ('K_tweetsvec', (1, 2)),\n",
       "              ('L_wikipedia-pubmed-and-PMC-w2v', (1060, 2)),\n",
       "              ('K_wikipedia-pubmed-and-PMC-w2v', (108, 2)),\n",
       "              ('L', (2175, 2)),\n",
       "              ('K', (150, 2))],\n",
       "             'gene_product_malfunction_associated_with_disease': [('L_claims_cuis_hs_300.txt',\n",
       "               (0,)),\n",
       "              ('K_claims_cuis_hs_300.txt', (0,)),\n",
       "              ('L_stanford_cuis_svd_300.txt', (0,)),\n",
       "              ('K_stanford_cuis_svd_300.txt', (0,)),\n",
       "              ('L_cui2vec_pretrained', (57, 2)),\n",
       "              ('K_cui2vec_pretrained', (14, 2)),\n",
       "              ('L_DeVine_etal_200', (26, 2)),\n",
       "              ('K_DeVine_etal_200', (6, 2)),\n",
       "              ('L_PMC-w2v', (270, 2)),\n",
       "              ('K_PMC-w2v', (27, 2)),\n",
       "              ('L_Health_2.5mreviews.s200.w10.n5.v15.cbow', (3, 2)),\n",
       "              ('K_Health_2.5mreviews.s200.w10.n5.v15.cbow', (1, 2)),\n",
       "              ('L_PubMed-and-PMC-w2v', (274, 2)),\n",
       "              ('K_PubMed-and-PMC-w2v', (27, 2)),\n",
       "              ('L_GoogleNews-vectors-negative300', (134, 2)),\n",
       "              ('K_GoogleNews-vectors-negative300', (19, 2)),\n",
       "              ('L_PubMed-w2v', (273, 2)),\n",
       "              ('K_PubMed-w2v', (27, 2)),\n",
       "              ('L_tweetsvec', (0,)),\n",
       "              ('K_tweetsvec', (0,)),\n",
       "              ('L_wikipedia-pubmed-and-PMC-w2v', (274, 2)),\n",
       "              ('K_wikipedia-pubmed-and-PMC-w2v', (27, 2)),\n",
       "              ('L', (509, 2)),\n",
       "              ('K', (33, 2))],\n",
       "             'has_associated_finding': [('L_claims_cuis_hs_300.txt', (97, 2)),\n",
       "              ('K_claims_cuis_hs_300.txt', (15, 2)),\n",
       "              ('L_stanford_cuis_svd_300.txt', (0,)),\n",
       "              ('K_stanford_cuis_svd_300.txt', (0,)),\n",
       "              ('L_cui2vec_pretrained', (1388, 2)),\n",
       "              ('K_cui2vec_pretrained', (118, 2)),\n",
       "              ('L_DeVine_etal_200', (684, 2)),\n",
       "              ('K_DeVine_etal_200', (43, 2)),\n",
       "              ('L_PMC-w2v', (290, 2)),\n",
       "              ('K_PMC-w2v', (18, 2)),\n",
       "              ('L_Health_2.5mreviews.s200.w10.n5.v15.cbow', (167, 2)),\n",
       "              ('K_Health_2.5mreviews.s200.w10.n5.v15.cbow', (5, 2)),\n",
       "              ('L_PubMed-and-PMC-w2v', (298, 2)),\n",
       "              ('K_PubMed-and-PMC-w2v', (18, 2)),\n",
       "              ('L_GoogleNews-vectors-negative300', (244, 2)),\n",
       "              ('K_GoogleNews-vectors-negative300', (17, 2)),\n",
       "              ('L_PubMed-w2v', (296, 2)),\n",
       "              ('K_PubMed-w2v', (18, 2)),\n",
       "              ('L_tweetsvec', (114, 2)),\n",
       "              ('K_tweetsvec', (5, 2)),\n",
       "              ('L_wikipedia-pubmed-and-PMC-w2v', (300, 2)),\n",
       "              ('K_wikipedia-pubmed-and-PMC-w2v', (18, 2)),\n",
       "              ('L', (12796, 2)),\n",
       "              ('K', (437, 2))],\n",
       "             'has_associated_morphology': [('L_claims_cuis_hs_300.txt',\n",
       "               (6522, 2)),\n",
       "              ('K_claims_cuis_hs_300.txt', (28, 2)),\n",
       "              ('L_stanford_cuis_svd_300.txt', (0,)),\n",
       "              ('K_stanford_cuis_svd_300.txt', (0,)),\n",
       "              ('L_cui2vec_pretrained', (51755, 2)),\n",
       "              ('K_cui2vec_pretrained', (1775, 2)),\n",
       "              ('L_DeVine_etal_200', (37425, 2)),\n",
       "              ('K_DeVine_etal_200', (1516, 2)),\n",
       "              ('L_PMC-w2v', (9904, 2)),\n",
       "              ('K_PMC-w2v', (311, 2)),\n",
       "              ('L_Health_2.5mreviews.s200.w10.n5.v15.cbow', (1446, 2)),\n",
       "              ('K_Health_2.5mreviews.s200.w10.n5.v15.cbow', (129, 2)),\n",
       "              ('L_PubMed-and-PMC-w2v', (11250, 2)),\n",
       "              ('K_PubMed-and-PMC-w2v', (336, 2)),\n",
       "              ('L_GoogleNews-vectors-negative300', (5635, 2)),\n",
       "              ('K_GoogleNews-vectors-negative300', (260, 2)),\n",
       "              ('L_PubMed-w2v', (11091, 2)),\n",
       "              ('K_PubMed-w2v', (336, 2)),\n",
       "              ('L_tweetsvec', (467, 2)),\n",
       "              ('K_tweetsvec', (71, 2)),\n",
       "              ('L_wikipedia-pubmed-and-PMC-w2v', (11339, 2)),\n",
       "              ('K_wikipedia-pubmed-and-PMC-w2v', (339, 2)),\n",
       "              ('L', (274157, 2)),\n",
       "              ('K', (5253, 2))],\n",
       "             'has_clinical_course': [('L_claims_cuis_hs_300.txt', (0,)),\n",
       "              ('K_claims_cuis_hs_300.txt', (0,)),\n",
       "              ('L_stanford_cuis_svd_300.txt', (0,)),\n",
       "              ('K_stanford_cuis_svd_300.txt', (0,)),\n",
       "              ('L_cui2vec_pretrained', (906, 2)),\n",
       "              ('K_cui2vec_pretrained', (539, 2)),\n",
       "              ('L_DeVine_etal_200', (549, 2)),\n",
       "              ('K_DeVine_etal_200', (373, 2)),\n",
       "              ('L_PMC-w2v', (182, 2)),\n",
       "              ('K_PMC-w2v', (86, 2)),\n",
       "              ('L_Health_2.5mreviews.s200.w10.n5.v15.cbow', (27, 2)),\n",
       "              ('K_Health_2.5mreviews.s200.w10.n5.v15.cbow', (17, 2)),\n",
       "              ('L_PubMed-and-PMC-w2v', (199, 2)),\n",
       "              ('K_PubMed-and-PMC-w2v', (90, 2)),\n",
       "              ('L_GoogleNews-vectors-negative300', (128, 2)),\n",
       "              ('K_GoogleNews-vectors-negative300', (59, 2)),\n",
       "              ('L_PubMed-w2v', (196, 2)),\n",
       "              ('K_PubMed-w2v', (88, 2)),\n",
       "              ('L_tweetsvec', (17, 2)),\n",
       "              ('K_tweetsvec', (9, 2)),\n",
       "              ('L_wikipedia-pubmed-and-PMC-w2v', (201, 2)),\n",
       "              ('K_wikipedia-pubmed-and-PMC-w2v', (91, 2)),\n",
       "              ('L', (5648, 2)),\n",
       "              ('K', (2103, 2))],\n",
       "             'has_contraindicated_drug': [('L_claims_cuis_hs_300.txt',\n",
       "               (898, 2)),\n",
       "              ('K_claims_cuis_hs_300.txt', (122, 2)),\n",
       "              ('L_stanford_cuis_svd_300.txt', (0,)),\n",
       "              ('K_stanford_cuis_svd_300.txt', (0,)),\n",
       "              ('L_cui2vec_pretrained', (6233, 2)),\n",
       "              ('K_cui2vec_pretrained', (438, 2)),\n",
       "              ('L_DeVine_etal_200', (5491, 2)),\n",
       "              ('K_DeVine_etal_200', (400, 2)),\n",
       "              ('L_PMC-w2v', (2404, 2)),\n",
       "              ('K_PMC-w2v', (232, 2)),\n",
       "              ('L_Health_2.5mreviews.s200.w10.n5.v15.cbow', (720, 2)),\n",
       "              ('K_Health_2.5mreviews.s200.w10.n5.v15.cbow', (99, 2)),\n",
       "              ('L_PubMed-and-PMC-w2v', (2579, 2)),\n",
       "              ('K_PubMed-and-PMC-w2v', (241, 2)),\n",
       "              ('L_GoogleNews-vectors-negative300', (1620, 2)),\n",
       "              ('K_GoogleNews-vectors-negative300', (163, 2)),\n",
       "              ('L_PubMed-w2v', (2552, 2)),\n",
       "              ('K_PubMed-w2v', (241, 2)),\n",
       "              ('L_tweetsvec', (284, 2)),\n",
       "              ('K_tweetsvec', (44, 2)),\n",
       "              ('L_wikipedia-pubmed-and-PMC-w2v', (2585, 2)),\n",
       "              ('K_wikipedia-pubmed-and-PMC-w2v', (241, 2)),\n",
       "              ('L', (11175, 2)),\n",
       "              ('K', (811, 2))],\n",
       "             'has_course': [('L_claims_cuis_hs_300.txt', (0,)),\n",
       "              ('K_claims_cuis_hs_300.txt', (0,)),\n",
       "              ('L_stanford_cuis_svd_300.txt', (0,)),\n",
       "              ('K_stanford_cuis_svd_300.txt', (0,)),\n",
       "              ('L_cui2vec_pretrained', (1596, 2)),\n",
       "              ('K_cui2vec_pretrained', (533, 2)),\n",
       "              ('L_DeVine_etal_200', (1110, 2)),\n",
       "              ('K_DeVine_etal_200', (393, 2)),\n",
       "              ('L_PMC-w2v', (204, 2)),\n",
       "              ('K_PMC-w2v', (98, 2)),\n",
       "              ('L_Health_2.5mreviews.s200.w10.n5.v15.cbow', (54, 2)),\n",
       "              ('K_Health_2.5mreviews.s200.w10.n5.v15.cbow', (23, 2)),\n",
       "              ('L_PubMed-and-PMC-w2v', (215, 2)),\n",
       "              ('K_PubMed-and-PMC-w2v', (103, 2)),\n",
       "              ('L_GoogleNews-vectors-negative300', (146, 2)),\n",
       "              ('K_GoogleNews-vectors-negative300', (71, 2)),\n",
       "              ('L_PubMed-w2v', (214, 2)),\n",
       "              ('K_PubMed-w2v', (102, 2)),\n",
       "              ('L_tweetsvec', (31, 2)),\n",
       "              ('K_tweetsvec', (12, 2)),\n",
       "              ('L_wikipedia-pubmed-and-PMC-w2v', (217, 2)),\n",
       "              ('K_wikipedia-pubmed-and-PMC-w2v', (103, 2)),\n",
       "              ('L', (4808, 2)),\n",
       "              ('K', (1408, 2))],\n",
       "             'has_finding_site': [('L_claims_cuis_hs_300.txt', (24, 2)),\n",
       "              ('K_claims_cuis_hs_300.txt', (0,)),\n",
       "              ('L_stanford_cuis_svd_300.txt', (0,)),\n",
       "              ('K_stanford_cuis_svd_300.txt', (0,)),\n",
       "              ('L_cui2vec_pretrained', (71646, 2)),\n",
       "              ('K_cui2vec_pretrained', (2764, 2)),\n",
       "              ('L_DeVine_etal_200', (54727, 2)),\n",
       "              ('K_DeVine_etal_200', (2175, 2)),\n",
       "              ('L_PMC-w2v', (12660, 2)),\n",
       "              ('K_PMC-w2v', (637, 2)),\n",
       "              ('L_Health_2.5mreviews.s200.w10.n5.v15.cbow', (1890, 2)),\n",
       "              ('K_Health_2.5mreviews.s200.w10.n5.v15.cbow', (164, 2)),\n",
       "              ('L_PubMed-and-PMC-w2v', (14339, 2)),\n",
       "              ('K_PubMed-and-PMC-w2v', (706, 2)),\n",
       "              ('L_GoogleNews-vectors-negative300', (7425, 2)),\n",
       "              ('K_GoogleNews-vectors-negative300', (475, 2)),\n",
       "              ('L_PubMed-w2v', (14044, 2)),\n",
       "              ('K_PubMed-w2v', (705, 2)),\n",
       "              ('L_tweetsvec', (753, 2)),\n",
       "              ('K_tweetsvec', (105, 2)),\n",
       "              ('L_wikipedia-pubmed-and-PMC-w2v', (14472, 2)),\n",
       "              ('K_wikipedia-pubmed-and-PMC-w2v', (712, 2)),\n",
       "              ('L', (371662, 2)),\n",
       "              ('K', (7954, 2))],\n",
       "             'has_manifestation': [('L_claims_cuis_hs_300.txt', (237, 2)),\n",
       "              ('K_claims_cuis_hs_300.txt', (21, 2)),\n",
       "              ('L_stanford_cuis_svd_300.txt', (0,)),\n",
       "              ('K_stanford_cuis_svd_300.txt', (0,)),\n",
       "              ('L_cui2vec_pretrained', (6317, 2)),\n",
       "              ('K_cui2vec_pretrained', (246, 2)),\n",
       "              ('L_DeVine_etal_200', (5553, 2)),\n",
       "              ('K_DeVine_etal_200', (220, 2)),\n",
       "              ('L_PMC-w2v', (9770, 2)),\n",
       "              ('K_PMC-w2v', (410, 2)),\n",
       "              ('L_Health_2.5mreviews.s200.w10.n5.v15.cbow', (99, 2)),\n",
       "              ('K_Health_2.5mreviews.s200.w10.n5.v15.cbow', (9, 2)),\n",
       "              ('L_PubMed-and-PMC-w2v', (11741, 2)),\n",
       "              ('K_PubMed-and-PMC-w2v', (478, 2)),\n",
       "              ('L_GoogleNews-vectors-negative300', (4045, 2)),\n",
       "              ('K_GoogleNews-vectors-negative300', (269, 2)),\n",
       "              ('L_PubMed-w2v', (10682, 2)),\n",
       "              ('K_PubMed-w2v', (448, 2)),\n",
       "              ('L_tweetsvec', (25, 2)),\n",
       "              ('K_tweetsvec', (0,)),\n",
       "              ('L_wikipedia-pubmed-and-PMC-w2v', (12117, 2)),\n",
       "              ('K_wikipedia-pubmed-and-PMC-w2v', (491, 2)),\n",
       "              ('L', (109024, 2)),\n",
       "              ('K', (1555, 2))],\n",
       "             'is_associated_anatomic_site_of': [('L_claims_cuis_hs_300.txt',\n",
       "               (0,)),\n",
       "              ('K_claims_cuis_hs_300.txt', (0,)),\n",
       "              ('L_stanford_cuis_svd_300.txt', (0,)),\n",
       "              ('K_stanford_cuis_svd_300.txt', (0,)),\n",
       "              ('L_cui2vec_pretrained', (5803, 2)),\n",
       "              ('K_cui2vec_pretrained', (704, 2)),\n",
       "              ('L_DeVine_etal_200', (5024, 2)),\n",
       "              ('K_DeVine_etal_200', (610, 2)),\n",
       "              ('L_PMC-w2v', (1688, 2)),\n",
       "              ('K_PMC-w2v', (78, 2)),\n",
       "              ('L_Health_2.5mreviews.s200.w10.n5.v15.cbow', (212, 2)),\n",
       "              ('K_Health_2.5mreviews.s200.w10.n5.v15.cbow', (22, 2)),\n",
       "              ('L_PubMed-and-PMC-w2v', (1825, 2)),\n",
       "              ('K_PubMed-and-PMC-w2v', (81, 2)),\n",
       "              ('L_GoogleNews-vectors-negative300', (960, 2)),\n",
       "              ('K_GoogleNews-vectors-negative300', (66, 2)),\n",
       "              ('L_PubMed-w2v', (1800, 2)),\n",
       "              ('K_PubMed-w2v', (81, 2)),\n",
       "              ('L_tweetsvec', (66, 2)),\n",
       "              ('K_tweetsvec', (15, 2)),\n",
       "              ('L_wikipedia-pubmed-and-PMC-w2v', (1827, 2)),\n",
       "              ('K_wikipedia-pubmed-and-PMC-w2v', (81, 2)),\n",
       "              ('L', (38394, 2)),\n",
       "              ('K', (2401, 2))],\n",
       "             'manifestation_of': [('L_claims_cuis_hs_300.txt', (237, 2)),\n",
       "              ('K_claims_cuis_hs_300.txt', (21, 2)),\n",
       "              ('L_stanford_cuis_svd_300.txt', (0,)),\n",
       "              ('K_stanford_cuis_svd_300.txt', (0,)),\n",
       "              ('L_cui2vec_pretrained', (6317, 2)),\n",
       "              ('K_cui2vec_pretrained', (246, 2)),\n",
       "              ('L_DeVine_etal_200', (5553, 2)),\n",
       "              ('K_DeVine_etal_200', (220, 2)),\n",
       "              ('L_PMC-w2v', (9770, 2)),\n",
       "              ('K_PMC-w2v', (410, 2)),\n",
       "              ('L_Health_2.5mreviews.s200.w10.n5.v15.cbow', (99, 2)),\n",
       "              ('K_Health_2.5mreviews.s200.w10.n5.v15.cbow', (9, 2)),\n",
       "              ('L_PubMed-and-PMC-w2v', (11741, 2)),\n",
       "              ('K_PubMed-and-PMC-w2v', (478, 2)),\n",
       "              ('L_GoogleNews-vectors-negative300', (4045, 2)),\n",
       "              ('K_GoogleNews-vectors-negative300', (269, 2)),\n",
       "              ('L_PubMed-w2v', (10682, 2)),\n",
       "              ('K_PubMed-w2v', (448, 2)),\n",
       "              ('L_tweetsvec', (25, 2)),\n",
       "              ('K_tweetsvec', (0,)),\n",
       "              ('L_wikipedia-pubmed-and-PMC-w2v', (12117, 2)),\n",
       "              ('K_wikipedia-pubmed-and-PMC-w2v', (491, 2)),\n",
       "              ('L', (109024, 2)),\n",
       "              ('K', (1555, 2))],\n",
       "             'may_be_treated_by': [('L_claims_cuis_hs_300.txt', (1571, 2)),\n",
       "              ('K_claims_cuis_hs_300.txt', (240, 2)),\n",
       "              ('L_stanford_cuis_svd_300.txt', (0,)),\n",
       "              ('K_stanford_cuis_svd_300.txt', (0,)),\n",
       "              ('L_cui2vec_pretrained', (7522, 2)),\n",
       "              ('K_cui2vec_pretrained', (664, 2)),\n",
       "              ('L_DeVine_etal_200', (6806, 2)),\n",
       "              ('K_DeVine_etal_200', (563, 2)),\n",
       "              ('L_PMC-w2v', (3698, 2)),\n",
       "              ('K_PMC-w2v', (391, 2)),\n",
       "              ('L_Health_2.5mreviews.s200.w10.n5.v15.cbow', (1118, 2)),\n",
       "              ('K_Health_2.5mreviews.s200.w10.n5.v15.cbow', (163, 2)),\n",
       "              ('L_PubMed-and-PMC-w2v', (4125, 2)),\n",
       "              ('K_PubMed-and-PMC-w2v', (427, 2)),\n",
       "              ('L_GoogleNews-vectors-negative300', (2548, 2)),\n",
       "              ('K_GoogleNews-vectors-negative300', (265, 2)),\n",
       "              ('L_PubMed-w2v', (4093, 2)),\n",
       "              ('K_PubMed-w2v', (426, 2)),\n",
       "              ('L_tweetsvec', (461, 2)),\n",
       "              ('K_tweetsvec', (88, 2)),\n",
       "              ('L_wikipedia-pubmed-and-PMC-w2v', (4143, 2)),\n",
       "              ('K_wikipedia-pubmed-and-PMC-w2v', (429, 2)),\n",
       "              ('L', (14338, 2)),\n",
       "              ('K', (1208, 2))],\n",
       "             'may_treat': [('L_claims_cuis_hs_300.txt', (1571, 2)),\n",
       "              ('K_claims_cuis_hs_300.txt', (240, 2)),\n",
       "              ('L_stanford_cuis_svd_300.txt', (0,)),\n",
       "              ('K_stanford_cuis_svd_300.txt', (0,)),\n",
       "              ('L_cui2vec_pretrained', (7522, 2)),\n",
       "              ('K_cui2vec_pretrained', (664, 2)),\n",
       "              ('L_DeVine_etal_200', (6806, 2)),\n",
       "              ('K_DeVine_etal_200', (563, 2)),\n",
       "              ('L_PMC-w2v', (3698, 2)),\n",
       "              ('K_PMC-w2v', (391, 2)),\n",
       "              ('L_Health_2.5mreviews.s200.w10.n5.v15.cbow', (1118, 2)),\n",
       "              ('K_Health_2.5mreviews.s200.w10.n5.v15.cbow', (163, 2)),\n",
       "              ('L_PubMed-and-PMC-w2v', (4125, 2)),\n",
       "              ('K_PubMed-and-PMC-w2v', (427, 2)),\n",
       "              ('L_GoogleNews-vectors-negative300', (2548, 2)),\n",
       "              ('K_GoogleNews-vectors-negative300', (265, 2)),\n",
       "              ('L_PubMed-w2v', (4093, 2)),\n",
       "              ('K_PubMed-w2v', (426, 2)),\n",
       "              ('L_tweetsvec', (461, 2)),\n",
       "              ('K_tweetsvec', (88, 2)),\n",
       "              ('L_wikipedia-pubmed-and-PMC-w2v', (4143, 2)),\n",
       "              ('K_wikipedia-pubmed-and-PMC-w2v', (429, 2)),\n",
       "              ('L', (14338, 2)),\n",
       "              ('K', (1208, 2))],\n",
       "             '': [('L_claims_cuis_hs_300.txt', (182246, 2)),\n",
       "              ('K_claims_cuis_hs_300.txt', (5308, 2)),\n",
       "              ('L_stanford_cuis_svd_300.txt', (0,)),\n",
       "              ('K_stanford_cuis_svd_300.txt', (0,)),\n",
       "              ('L_cui2vec_pretrained', (840633, 2)),\n",
       "              ('K_cui2vec_pretrained', (55336, 2)),\n",
       "              ('L_DeVine_etal_200', (579239, 2)),\n",
       "              ('K_DeVine_etal_200', (42352, 2)),\n",
       "              ('L_PMC-w2v', (1237671, 2)),\n",
       "              ('K_PMC-w2v', (324734, 2)),\n",
       "              ('L_Health_2.5mreviews.s200.w10.n5.v15.cbow', (208865, 2)),\n",
       "              ('K_Health_2.5mreviews.s200.w10.n5.v15.cbow', (68386, 2)),\n",
       "              ('L_PubMed-and-PMC-w2v', (1364067, 2)),\n",
       "              ('K_PubMed-and-PMC-w2v', (343320, 2)),\n",
       "              ('L_GoogleNews-vectors-negative300', (702549, 2)),\n",
       "              ('K_GoogleNews-vectors-negative300', (205792, 2)),\n",
       "              ('L_PubMed-w2v', (1318189, 2)),\n",
       "              ('K_PubMed-w2v', (340386, 2)),\n",
       "              ('L_tweetsvec', (89893, 2)),\n",
       "              ('K_tweetsvec', (24974, 2)),\n",
       "              ('L_wikipedia-pubmed-and-PMC-w2v', (1401869, 2)),\n",
       "              ('K_wikipedia-pubmed-and-PMC-w2v', (344576, 2)),\n",
       "              ('L', (13366136, 2)),\n",
       "              ('K', (703264, 2))]})"
      ]
     },
     "execution_count": 64,
     "metadata": {},
     "output_type": "execute_result"
    }
   ],
   "source": [
    "sets_relations_r"
   ]
  },
  {
   "cell_type": "code",
   "execution_count": 13,
   "id": "digital-fundamentals",
   "metadata": {},
   "outputs": [
    {
     "data": {
      "text/plain": [
       "defaultdict(list,\n",
       "            {'associated_finding_of': [('L_claims_cuis_hs_300.txt', (57, 2)),\n",
       "              ('K_claims_cuis_hs_300.txt', (10, 2)),\n",
       "              ('L_stanford_cuis_svd_300.txt', (0,)),\n",
       "              ('K_stanford_cuis_svd_300.txt', (0,)),\n",
       "              ('L_cui2vec_pretrained', (827, 2)),\n",
       "              ('K_cui2vec_pretrained', (58, 2)),\n",
       "              ('L_DeVine_etal_200', (446, 2)),\n",
       "              ('K_DeVine_etal_200', (23, 2)),\n",
       "              ('L_PMC-w2v', (183, 2)),\n",
       "              ('K_PMC-w2v', (9, 2)),\n",
       "              ('L_Health_2.5mreviews.s200.w10.n5.v15.cbow', (109, 2)),\n",
       "              ('K_Health_2.5mreviews.s200.w10.n5.v15.cbow', (4, 2)),\n",
       "              ('L_PubMed-and-PMC-w2v', (188, 2)),\n",
       "              ('K_PubMed-and-PMC-w2v', (9, 2)),\n",
       "              ('L_GoogleNews-vectors-negative300', (151, 2)),\n",
       "              ('K_GoogleNews-vectors-negative300', (8, 2)),\n",
       "              ('L_PubMed-w2v', (187, 2)),\n",
       "              ('K_PubMed-w2v', (9, 2)),\n",
       "              ('L_tweetsvec', (77, 2)),\n",
       "              ('K_tweetsvec', (4, 2)),\n",
       "              ('L_wikipedia-pubmed-and-PMC-w2v', (189, 2)),\n",
       "              ('K_wikipedia-pubmed-and-PMC-w2v', (9, 2)),\n",
       "              ('L', (12796, 2)),\n",
       "              ('K', (437, 2))],\n",
       "             'associated_morphology_of': [('L_claims_cuis_hs_300.txt',\n",
       "               (1670, 2)),\n",
       "              ('K_claims_cuis_hs_300.txt', (24, 2)),\n",
       "              ('L_stanford_cuis_svd_300.txt', (0,)),\n",
       "              ('K_stanford_cuis_svd_300.txt', (0,)),\n",
       "              ('L_cui2vec_pretrained', (19142, 2)),\n",
       "              ('K_cui2vec_pretrained', (583, 2)),\n",
       "              ('L_DeVine_etal_200', (14982, 2)),\n",
       "              ('K_DeVine_etal_200', (527, 2)),\n",
       "              ('L_PMC-w2v', (3767, 2)),\n",
       "              ('K_PMC-w2v', (97, 2)),\n",
       "              ('L_Health_2.5mreviews.s200.w10.n5.v15.cbow', (462, 2)),\n",
       "              ('K_Health_2.5mreviews.s200.w10.n5.v15.cbow', (31, 2)),\n",
       "              ('L_PubMed-and-PMC-w2v', (4288, 2)),\n",
       "              ('K_PubMed-and-PMC-w2v', (105, 2)),\n",
       "              ('L_GoogleNews-vectors-negative300', (2137, 2)),\n",
       "              ('K_GoogleNews-vectors-negative300', (78, 2)),\n",
       "              ('L_PubMed-w2v', (4220, 2)),\n",
       "              ('K_PubMed-w2v', (105, 2)),\n",
       "              ('L_tweetsvec', (149, 2)),\n",
       "              ('K_tweetsvec', (20, 2)),\n",
       "              ('L_wikipedia-pubmed-and-PMC-w2v', (4337, 2)),\n",
       "              ('K_wikipedia-pubmed-and-PMC-w2v', (106, 2)),\n",
       "              ('L', (274157, 2)),\n",
       "              ('K', (5253, 2))],\n",
       "             'associated_with_malfunction_of_gene_product': [('L_claims_cuis_hs_300.txt',\n",
       "               (0,)),\n",
       "              ('K_claims_cuis_hs_300.txt', (0,)),\n",
       "              ('L_stanford_cuis_svd_300.txt', (0,)),\n",
       "              ('K_stanford_cuis_svd_300.txt', (0,)),\n",
       "              ('L_cui2vec_pretrained', (57, 2)),\n",
       "              ('K_cui2vec_pretrained', (14, 2)),\n",
       "              ('L_DeVine_etal_200', (26, 2)),\n",
       "              ('K_DeVine_etal_200', (6, 2)),\n",
       "              ('L_PMC-w2v', (270, 2)),\n",
       "              ('K_PMC-w2v', (27, 2)),\n",
       "              ('L_Health_2.5mreviews.s200.w10.n5.v15.cbow', (3, 2)),\n",
       "              ('K_Health_2.5mreviews.s200.w10.n5.v15.cbow', (1, 2)),\n",
       "              ('L_PubMed-and-PMC-w2v', (274, 2)),\n",
       "              ('K_PubMed-and-PMC-w2v', (27, 2)),\n",
       "              ('L_GoogleNews-vectors-negative300', (134, 2)),\n",
       "              ('K_GoogleNews-vectors-negative300', (19, 2)),\n",
       "              ('L_PubMed-w2v', (273, 2)),\n",
       "              ('K_PubMed-w2v', (27, 2)),\n",
       "              ('L_tweetsvec', (0,)),\n",
       "              ('K_tweetsvec', (0,)),\n",
       "              ('L_wikipedia-pubmed-and-PMC-w2v', (274, 2)),\n",
       "              ('K_wikipedia-pubmed-and-PMC-w2v', (27, 2)),\n",
       "              ('L', (509, 2)),\n",
       "              ('K', (33, 2))],\n",
       "             'clinical_course_of': [('L_claims_cuis_hs_300.txt', (0,)),\n",
       "              ('K_claims_cuis_hs_300.txt', (0,)),\n",
       "              ('L_stanford_cuis_svd_300.txt', (0,)),\n",
       "              ('K_stanford_cuis_svd_300.txt', (0,)),\n",
       "              ('L_cui2vec_pretrained', (781, 2)),\n",
       "              ('K_cui2vec_pretrained', (445, 2)),\n",
       "              ('L_DeVine_etal_200', (479, 2)),\n",
       "              ('K_DeVine_etal_200', (316, 2)),\n",
       "              ('L_PMC-w2v', (162, 2)),\n",
       "              ('K_PMC-w2v', (71, 2)),\n",
       "              ('L_Health_2.5mreviews.s200.w10.n5.v15.cbow', (19, 2)),\n",
       "              ('K_Health_2.5mreviews.s200.w10.n5.v15.cbow', (11, 2)),\n",
       "              ('L_PubMed-and-PMC-w2v', (177, 2)),\n",
       "              ('K_PubMed-and-PMC-w2v', (75, 2)),\n",
       "              ('L_GoogleNews-vectors-negative300', (111, 2)),\n",
       "              ('K_GoogleNews-vectors-negative300', (46, 2)),\n",
       "              ('L_PubMed-w2v', (174, 2)),\n",
       "              ('K_PubMed-w2v', (73, 2)),\n",
       "              ('L_tweetsvec', (11, 2)),\n",
       "              ('K_tweetsvec', (5, 2)),\n",
       "              ('L_wikipedia-pubmed-and-PMC-w2v', (179, 2)),\n",
       "              ('K_wikipedia-pubmed-and-PMC-w2v', (76, 2)),\n",
       "              ('L', (5648, 2)),\n",
       "              ('K', (2103, 2))],\n",
       "             'contraindicated_with_disease': [('L_claims_cuis_hs_300.txt',\n",
       "               (898, 2)),\n",
       "              ('K_claims_cuis_hs_300.txt', (122, 2)),\n",
       "              ('L_stanford_cuis_svd_300.txt', (0,)),\n",
       "              ('K_stanford_cuis_svd_300.txt', (0,)),\n",
       "              ('L_cui2vec_pretrained', (6233, 2)),\n",
       "              ('K_cui2vec_pretrained', (438, 2)),\n",
       "              ('L_DeVine_etal_200', (5491, 2)),\n",
       "              ('K_DeVine_etal_200', (400, 2)),\n",
       "              ('L_PMC-w2v', (2404, 2)),\n",
       "              ('K_PMC-w2v', (232, 2)),\n",
       "              ('L_Health_2.5mreviews.s200.w10.n5.v15.cbow', (720, 2)),\n",
       "              ('K_Health_2.5mreviews.s200.w10.n5.v15.cbow', (99, 2)),\n",
       "              ('L_PubMed-and-PMC-w2v', (2579, 2)),\n",
       "              ('K_PubMed-and-PMC-w2v', (241, 2)),\n",
       "              ('L_GoogleNews-vectors-negative300', (1620, 2)),\n",
       "              ('K_GoogleNews-vectors-negative300', (163, 2)),\n",
       "              ('L_PubMed-w2v', (2552, 2)),\n",
       "              ('K_PubMed-w2v', (241, 2)),\n",
       "              ('L_tweetsvec', (284, 2)),\n",
       "              ('K_tweetsvec', (44, 2)),\n",
       "              ('L_wikipedia-pubmed-and-PMC-w2v', (2585, 2)),\n",
       "              ('K_wikipedia-pubmed-and-PMC-w2v', (241, 2)),\n",
       "              ('L', (11175, 2)),\n",
       "              ('K', (811, 2))],\n",
       "             'course_of': [('L_claims_cuis_hs_300.txt', (0,)),\n",
       "              ('K_claims_cuis_hs_300.txt', (0,)),\n",
       "              ('L_stanford_cuis_svd_300.txt', (0,)),\n",
       "              ('K_stanford_cuis_svd_300.txt', (0,)),\n",
       "              ('L_cui2vec_pretrained', (1006, 2)),\n",
       "              ('K_cui2vec_pretrained', (409, 2)),\n",
       "              ('L_DeVine_etal_200', (739, 2)),\n",
       "              ('K_DeVine_etal_200', (315, 2)),\n",
       "              ('L_PMC-w2v', (132, 2)),\n",
       "              ('K_PMC-w2v', (68, 2)),\n",
       "              ('L_Health_2.5mreviews.s200.w10.n5.v15.cbow', (32, 2)),\n",
       "              ('K_Health_2.5mreviews.s200.w10.n5.v15.cbow', (15, 2)),\n",
       "              ('L_PubMed-and-PMC-w2v', (140, 2)),\n",
       "              ('K_PubMed-and-PMC-w2v', (72, 2)),\n",
       "              ('L_GoogleNews-vectors-negative300', (90, 2)),\n",
       "              ('K_GoogleNews-vectors-negative300', (47, 2)),\n",
       "              ('L_PubMed-w2v', (139, 2)),\n",
       "              ('K_PubMed-w2v', (71, 2)),\n",
       "              ('L_tweetsvec', (19, 2)),\n",
       "              ('K_tweetsvec', (8, 2)),\n",
       "              ('L_wikipedia-pubmed-and-PMC-w2v', (141, 2)),\n",
       "              ('K_wikipedia-pubmed-and-PMC-w2v', (72, 2)),\n",
       "              ('L', (4808, 2)),\n",
       "              ('K', (1408, 2))],\n",
       "             'disease_has_associated_anatomic_site': [('L_claims_cuis_hs_300.txt',\n",
       "               (0,)),\n",
       "              ('K_claims_cuis_hs_300.txt', (0,)),\n",
       "              ('L_stanford_cuis_svd_300.txt', (0,)),\n",
       "              ('K_stanford_cuis_svd_300.txt', (0,)),\n",
       "              ('L_cui2vec_pretrained', (5716, 2)),\n",
       "              ('K_cui2vec_pretrained', (692, 2)),\n",
       "              ('L_DeVine_etal_200', (4938, 2)),\n",
       "              ('K_DeVine_etal_200', (598, 2)),\n",
       "              ('L_PMC-w2v', (1660, 2)),\n",
       "              ('K_PMC-w2v', (78, 2)),\n",
       "              ('L_Health_2.5mreviews.s200.w10.n5.v15.cbow', (204, 2)),\n",
       "              ('K_Health_2.5mreviews.s200.w10.n5.v15.cbow', (22, 2)),\n",
       "              ('L_PubMed-and-PMC-w2v', (1797, 2)),\n",
       "              ('K_PubMed-and-PMC-w2v', (81, 2)),\n",
       "              ('L_GoogleNews-vectors-negative300', (943, 2)),\n",
       "              ('K_GoogleNews-vectors-negative300', (66, 2)),\n",
       "              ('L_PubMed-w2v', (1772, 2)),\n",
       "              ('K_PubMed-w2v', (81, 2)),\n",
       "              ('L_tweetsvec', (63, 2)),\n",
       "              ('K_tweetsvec', (15, 2)),\n",
       "              ('L_wikipedia-pubmed-and-PMC-w2v', (1799, 2)),\n",
       "              ('K_wikipedia-pubmed-and-PMC-w2v', (81, 2)),\n",
       "              ('L', (38394, 2)),\n",
       "              ('K', (2401, 2))],\n",
       "             'disease_has_associated_gene': [('L_claims_cuis_hs_300.txt',\n",
       "               (0,)),\n",
       "              ('K_claims_cuis_hs_300.txt', (0,)),\n",
       "              ('L_stanford_cuis_svd_300.txt', (0,)),\n",
       "              ('K_stanford_cuis_svd_300.txt', (0,)),\n",
       "              ('L_cui2vec_pretrained', (5, 2)),\n",
       "              ('K_cui2vec_pretrained', (1, 2)),\n",
       "              ('L_DeVine_etal_200', (1, 2)),\n",
       "              ('K_DeVine_etal_200', (0,)),\n",
       "              ('L_PMC-w2v', (1016, 2)),\n",
       "              ('K_PMC-w2v', (105, 2)),\n",
       "              ('L_Health_2.5mreviews.s200.w10.n5.v15.cbow', (7, 2)),\n",
       "              ('K_Health_2.5mreviews.s200.w10.n5.v15.cbow', (3, 2)),\n",
       "              ('L_PubMed-and-PMC-w2v', (1059, 2)),\n",
       "              ('K_PubMed-and-PMC-w2v', (108, 2)),\n",
       "              ('L_GoogleNews-vectors-negative300', (485, 2)),\n",
       "              ('K_GoogleNews-vectors-negative300', (71, 2)),\n",
       "              ('L_PubMed-w2v', (902, 2)),\n",
       "              ('K_PubMed-w2v', (100, 2)),\n",
       "              ('L_tweetsvec', (1, 2)),\n",
       "              ('K_tweetsvec', (1, 2)),\n",
       "              ('L_wikipedia-pubmed-and-PMC-w2v', (1059, 2)),\n",
       "              ('K_wikipedia-pubmed-and-PMC-w2v', (108, 2)),\n",
       "              ('L', (2175, 2)),\n",
       "              ('K', (150, 2))],\n",
       "             'finding_site_of': [('L_claims_cuis_hs_300.txt', (10, 2)),\n",
       "              ('K_claims_cuis_hs_300.txt', (0,)),\n",
       "              ('L_stanford_cuis_svd_300.txt', (0,)),\n",
       "              ('K_stanford_cuis_svd_300.txt', (0,)),\n",
       "              ('L_cui2vec_pretrained', (34636, 2)),\n",
       "              ('K_cui2vec_pretrained', (1281, 2)),\n",
       "              ('L_DeVine_etal_200', (26951, 2)),\n",
       "              ('K_DeVine_etal_200', (1030, 2)),\n",
       "              ('L_PMC-w2v', (5411, 2)),\n",
       "              ('K_PMC-w2v', (214, 2)),\n",
       "              ('L_Health_2.5mreviews.s200.w10.n5.v15.cbow', (742, 2)),\n",
       "              ('K_Health_2.5mreviews.s200.w10.n5.v15.cbow', (63, 2)),\n",
       "              ('L_PubMed-and-PMC-w2v', (6158, 2)),\n",
       "              ('K_PubMed-and-PMC-w2v', (230, 2)),\n",
       "              ('L_GoogleNews-vectors-negative300', (3153, 2)),\n",
       "              ('K_GoogleNews-vectors-negative300', (166, 2)),\n",
       "              ('L_PubMed-w2v', (6022, 2)),\n",
       "              ('K_PubMed-w2v', (229, 2)),\n",
       "              ('L_tweetsvec', (304, 2)),\n",
       "              ('K_tweetsvec', (35, 2)),\n",
       "              ('L_wikipedia-pubmed-and-PMC-w2v', (6229, 2)),\n",
       "              ('K_wikipedia-pubmed-and-PMC-w2v', (232, 2)),\n",
       "              ('L', (371662, 2)),\n",
       "              ('K', (7954, 2))],\n",
       "             'gene_associated_with_disease': [('L_claims_cuis_hs_300.txt',\n",
       "               (0,)),\n",
       "              ('K_claims_cuis_hs_300.txt', (0,)),\n",
       "              ('L_stanford_cuis_svd_300.txt', (0,)),\n",
       "              ('K_stanford_cuis_svd_300.txt', (0,)),\n",
       "              ('L_cui2vec_pretrained', (5, 2)),\n",
       "              ('K_cui2vec_pretrained', (1, 2)),\n",
       "              ('L_DeVine_etal_200', (1, 2)),\n",
       "              ('K_DeVine_etal_200', (0,)),\n",
       "              ('L_PMC-w2v', (1016, 2)),\n",
       "              ('K_PMC-w2v', (105, 2)),\n",
       "              ('L_Health_2.5mreviews.s200.w10.n5.v15.cbow', (7, 2)),\n",
       "              ('K_Health_2.5mreviews.s200.w10.n5.v15.cbow', (3, 2)),\n",
       "              ('L_PubMed-and-PMC-w2v', (1059, 2)),\n",
       "              ('K_PubMed-and-PMC-w2v', (108, 2)),\n",
       "              ('L_GoogleNews-vectors-negative300', (485, 2)),\n",
       "              ('K_GoogleNews-vectors-negative300', (71, 2)),\n",
       "              ('L_PubMed-w2v', (902, 2)),\n",
       "              ('K_PubMed-w2v', (100, 2)),\n",
       "              ('L_tweetsvec', (1, 2)),\n",
       "              ('K_tweetsvec', (1, 2)),\n",
       "              ('L_wikipedia-pubmed-and-PMC-w2v', (1059, 2)),\n",
       "              ('K_wikipedia-pubmed-and-PMC-w2v', (108, 2)),\n",
       "              ('L', (2175, 2)),\n",
       "              ('K', (150, 2))],\n",
       "             'gene_product_malfunction_associated_with_disease': [('L_claims_cuis_hs_300.txt',\n",
       "               (0,)),\n",
       "              ('K_claims_cuis_hs_300.txt', (0,)),\n",
       "              ('L_stanford_cuis_svd_300.txt', (0,)),\n",
       "              ('K_stanford_cuis_svd_300.txt', (0,)),\n",
       "              ('L_cui2vec_pretrained', (57, 2)),\n",
       "              ('K_cui2vec_pretrained', (14, 2)),\n",
       "              ('L_DeVine_etal_200', (26, 2)),\n",
       "              ('K_DeVine_etal_200', (6, 2)),\n",
       "              ('L_PMC-w2v', (270, 2)),\n",
       "              ('K_PMC-w2v', (27, 2)),\n",
       "              ('L_Health_2.5mreviews.s200.w10.n5.v15.cbow', (3, 2)),\n",
       "              ('K_Health_2.5mreviews.s200.w10.n5.v15.cbow', (1, 2)),\n",
       "              ('L_PubMed-and-PMC-w2v', (274, 2)),\n",
       "              ('K_PubMed-and-PMC-w2v', (27, 2)),\n",
       "              ('L_GoogleNews-vectors-negative300', (134, 2)),\n",
       "              ('K_GoogleNews-vectors-negative300', (19, 2)),\n",
       "              ('L_PubMed-w2v', (273, 2)),\n",
       "              ('K_PubMed-w2v', (27, 2)),\n",
       "              ('L_tweetsvec', (0,)),\n",
       "              ('K_tweetsvec', (0,)),\n",
       "              ('L_wikipedia-pubmed-and-PMC-w2v', (274, 2)),\n",
       "              ('K_wikipedia-pubmed-and-PMC-w2v', (27, 2)),\n",
       "              ('L', (509, 2)),\n",
       "              ('K', (33, 2))],\n",
       "             'has_associated_finding': [('L_claims_cuis_hs_300.txt', (57, 2)),\n",
       "              ('K_claims_cuis_hs_300.txt', (10, 2)),\n",
       "              ('L_stanford_cuis_svd_300.txt', (0,)),\n",
       "              ('K_stanford_cuis_svd_300.txt', (0,)),\n",
       "              ('L_cui2vec_pretrained', (827, 2)),\n",
       "              ('K_cui2vec_pretrained', (58, 2)),\n",
       "              ('L_DeVine_etal_200', (446, 2)),\n",
       "              ('K_DeVine_etal_200', (23, 2)),\n",
       "              ('L_PMC-w2v', (183, 2)),\n",
       "              ('K_PMC-w2v', (9, 2)),\n",
       "              ('L_Health_2.5mreviews.s200.w10.n5.v15.cbow', (109, 2)),\n",
       "              ('K_Health_2.5mreviews.s200.w10.n5.v15.cbow', (4, 2)),\n",
       "              ('L_PubMed-and-PMC-w2v', (188, 2)),\n",
       "              ('K_PubMed-and-PMC-w2v', (9, 2)),\n",
       "              ('L_GoogleNews-vectors-negative300', (151, 2)),\n",
       "              ('K_GoogleNews-vectors-negative300', (8, 2)),\n",
       "              ('L_PubMed-w2v', (187, 2)),\n",
       "              ('K_PubMed-w2v', (9, 2)),\n",
       "              ('L_tweetsvec', (77, 2)),\n",
       "              ('K_tweetsvec', (4, 2)),\n",
       "              ('L_wikipedia-pubmed-and-PMC-w2v', (189, 2)),\n",
       "              ('K_wikipedia-pubmed-and-PMC-w2v', (9, 2)),\n",
       "              ('L', (12796, 2)),\n",
       "              ('K', (437, 2))],\n",
       "             'has_associated_morphology': [('L_claims_cuis_hs_300.txt',\n",
       "               (1670, 2)),\n",
       "              ('K_claims_cuis_hs_300.txt', (24, 2)),\n",
       "              ('L_stanford_cuis_svd_300.txt', (0,)),\n",
       "              ('K_stanford_cuis_svd_300.txt', (0,)),\n",
       "              ('L_cui2vec_pretrained', (19142, 2)),\n",
       "              ('K_cui2vec_pretrained', (583, 2)),\n",
       "              ('L_DeVine_etal_200', (14982, 2)),\n",
       "              ('K_DeVine_etal_200', (527, 2)),\n",
       "              ('L_PMC-w2v', (3767, 2)),\n",
       "              ('K_PMC-w2v', (97, 2)),\n",
       "              ('L_Health_2.5mreviews.s200.w10.n5.v15.cbow', (462, 2)),\n",
       "              ('K_Health_2.5mreviews.s200.w10.n5.v15.cbow', (31, 2)),\n",
       "              ('L_PubMed-and-PMC-w2v', (4288, 2)),\n",
       "              ('K_PubMed-and-PMC-w2v', (105, 2)),\n",
       "              ('L_GoogleNews-vectors-negative300', (2137, 2)),\n",
       "              ('K_GoogleNews-vectors-negative300', (78, 2)),\n",
       "              ('L_PubMed-w2v', (4220, 2)),\n",
       "              ('K_PubMed-w2v', (105, 2)),\n",
       "              ('L_tweetsvec', (149, 2)),\n",
       "              ('K_tweetsvec', (20, 2)),\n",
       "              ('L_wikipedia-pubmed-and-PMC-w2v', (4337, 2)),\n",
       "              ('K_wikipedia-pubmed-and-PMC-w2v', (106, 2)),\n",
       "              ('L', (274157, 2)),\n",
       "              ('K', (5253, 2))],\n",
       "             'has_clinical_course': [('L_claims_cuis_hs_300.txt', (0,)),\n",
       "              ('K_claims_cuis_hs_300.txt', (0,)),\n",
       "              ('L_stanford_cuis_svd_300.txt', (0,)),\n",
       "              ('K_stanford_cuis_svd_300.txt', (0,)),\n",
       "              ('L_cui2vec_pretrained', (781, 2)),\n",
       "              ('K_cui2vec_pretrained', (445, 2)),\n",
       "              ('L_DeVine_etal_200', (479, 2)),\n",
       "              ('K_DeVine_etal_200', (316, 2)),\n",
       "              ('L_PMC-w2v', (162, 2)),\n",
       "              ('K_PMC-w2v', (71, 2)),\n",
       "              ('L_Health_2.5mreviews.s200.w10.n5.v15.cbow', (19, 2)),\n",
       "              ('K_Health_2.5mreviews.s200.w10.n5.v15.cbow', (11, 2)),\n",
       "              ('L_PubMed-and-PMC-w2v', (177, 2)),\n",
       "              ('K_PubMed-and-PMC-w2v', (75, 2)),\n",
       "              ('L_GoogleNews-vectors-negative300', (111, 2)),\n",
       "              ('K_GoogleNews-vectors-negative300', (46, 2)),\n",
       "              ('L_PubMed-w2v', (174, 2)),\n",
       "              ('K_PubMed-w2v', (73, 2)),\n",
       "              ('L_tweetsvec', (11, 2)),\n",
       "              ('K_tweetsvec', (5, 2)),\n",
       "              ('L_wikipedia-pubmed-and-PMC-w2v', (179, 2)),\n",
       "              ('K_wikipedia-pubmed-and-PMC-w2v', (76, 2)),\n",
       "              ('L', (5648, 2)),\n",
       "              ('K', (2103, 2))],\n",
       "             'has_contraindicated_drug': [('L_claims_cuis_hs_300.txt',\n",
       "               (898, 2)),\n",
       "              ('K_claims_cuis_hs_300.txt', (122, 2)),\n",
       "              ('L_stanford_cuis_svd_300.txt', (0,)),\n",
       "              ('K_stanford_cuis_svd_300.txt', (0,)),\n",
       "              ('L_cui2vec_pretrained', (6233, 2)),\n",
       "              ('K_cui2vec_pretrained', (438, 2)),\n",
       "              ('L_DeVine_etal_200', (5491, 2)),\n",
       "              ('K_DeVine_etal_200', (400, 2)),\n",
       "              ('L_PMC-w2v', (2404, 2)),\n",
       "              ('K_PMC-w2v', (232, 2)),\n",
       "              ('L_Health_2.5mreviews.s200.w10.n5.v15.cbow', (720, 2)),\n",
       "              ('K_Health_2.5mreviews.s200.w10.n5.v15.cbow', (99, 2)),\n",
       "              ('L_PubMed-and-PMC-w2v', (2579, 2)),\n",
       "              ('K_PubMed-and-PMC-w2v', (241, 2)),\n",
       "              ('L_GoogleNews-vectors-negative300', (1620, 2)),\n",
       "              ('K_GoogleNews-vectors-negative300', (163, 2)),\n",
       "              ('L_PubMed-w2v', (2552, 2)),\n",
       "              ('K_PubMed-w2v', (241, 2)),\n",
       "              ('L_tweetsvec', (284, 2)),\n",
       "              ('K_tweetsvec', (44, 2)),\n",
       "              ('L_wikipedia-pubmed-and-PMC-w2v', (2585, 2)),\n",
       "              ('K_wikipedia-pubmed-and-PMC-w2v', (241, 2)),\n",
       "              ('L', (11175, 2)),\n",
       "              ('K', (811, 2))],\n",
       "             'has_course': [('L_claims_cuis_hs_300.txt', (0,)),\n",
       "              ('K_claims_cuis_hs_300.txt', (0,)),\n",
       "              ('L_stanford_cuis_svd_300.txt', (0,)),\n",
       "              ('K_stanford_cuis_svd_300.txt', (0,)),\n",
       "              ('L_cui2vec_pretrained', (1006, 2)),\n",
       "              ('K_cui2vec_pretrained', (409, 2)),\n",
       "              ('L_DeVine_etal_200', (739, 2)),\n",
       "              ('K_DeVine_etal_200', (315, 2)),\n",
       "              ('L_PMC-w2v', (132, 2)),\n",
       "              ('K_PMC-w2v', (68, 2)),\n",
       "              ('L_Health_2.5mreviews.s200.w10.n5.v15.cbow', (32, 2)),\n",
       "              ('K_Health_2.5mreviews.s200.w10.n5.v15.cbow', (15, 2)),\n",
       "              ('L_PubMed-and-PMC-w2v', (140, 2)),\n",
       "              ('K_PubMed-and-PMC-w2v', (72, 2)),\n",
       "              ('L_GoogleNews-vectors-negative300', (90, 2)),\n",
       "              ('K_GoogleNews-vectors-negative300', (47, 2)),\n",
       "              ('L_PubMed-w2v', (139, 2)),\n",
       "              ('K_PubMed-w2v', (71, 2)),\n",
       "              ('L_tweetsvec', (19, 2)),\n",
       "              ('K_tweetsvec', (8, 2)),\n",
       "              ('L_wikipedia-pubmed-and-PMC-w2v', (141, 2)),\n",
       "              ('K_wikipedia-pubmed-and-PMC-w2v', (72, 2)),\n",
       "              ('L', (4808, 2)),\n",
       "              ('K', (1408, 2))],\n",
       "             'has_finding_site': [('L_claims_cuis_hs_300.txt', (10, 2)),\n",
       "              ('K_claims_cuis_hs_300.txt', (0,)),\n",
       "              ('L_stanford_cuis_svd_300.txt', (0,)),\n",
       "              ('K_stanford_cuis_svd_300.txt', (0,)),\n",
       "              ('L_cui2vec_pretrained', (34636, 2)),\n",
       "              ('K_cui2vec_pretrained', (1281, 2)),\n",
       "              ('L_DeVine_etal_200', (26951, 2)),\n",
       "              ('K_DeVine_etal_200', (1030, 2)),\n",
       "              ('L_PMC-w2v', (5411, 2)),\n",
       "              ('K_PMC-w2v', (214, 2)),\n",
       "              ('L_Health_2.5mreviews.s200.w10.n5.v15.cbow', (742, 2)),\n",
       "              ('K_Health_2.5mreviews.s200.w10.n5.v15.cbow', (63, 2)),\n",
       "              ('L_PubMed-and-PMC-w2v', (6158, 2)),\n",
       "              ('K_PubMed-and-PMC-w2v', (230, 2)),\n",
       "              ('L_GoogleNews-vectors-negative300', (3153, 2)),\n",
       "              ('K_GoogleNews-vectors-negative300', (166, 2)),\n",
       "              ('L_PubMed-w2v', (6022, 2)),\n",
       "              ('K_PubMed-w2v', (229, 2)),\n",
       "              ('L_tweetsvec', (304, 2)),\n",
       "              ('K_tweetsvec', (35, 2)),\n",
       "              ('L_wikipedia-pubmed-and-PMC-w2v', (6229, 2)),\n",
       "              ('K_wikipedia-pubmed-and-PMC-w2v', (232, 2)),\n",
       "              ('L', (371662, 2)),\n",
       "              ('K', (7954, 2))],\n",
       "             'has_manifestation': [('L_claims_cuis_hs_300.txt', (236, 2)),\n",
       "              ('K_claims_cuis_hs_300.txt', (21, 2)),\n",
       "              ('L_stanford_cuis_svd_300.txt', (0,)),\n",
       "              ('K_stanford_cuis_svd_300.txt', (0,)),\n",
       "              ('L_cui2vec_pretrained', (6295, 2)),\n",
       "              ('K_cui2vec_pretrained', (245, 2)),\n",
       "              ('L_DeVine_etal_200', (5532, 2)),\n",
       "              ('K_DeVine_etal_200', (219, 2)),\n",
       "              ('L_PMC-w2v', (9734, 2)),\n",
       "              ('K_PMC-w2v', (409, 2)),\n",
       "              ('L_Health_2.5mreviews.s200.w10.n5.v15.cbow', (99, 2)),\n",
       "              ('K_Health_2.5mreviews.s200.w10.n5.v15.cbow', (9, 2)),\n",
       "              ('L_PubMed-and-PMC-w2v', (11699, 2)),\n",
       "              ('K_PubMed-and-PMC-w2v', (477, 2)),\n",
       "              ('L_GoogleNews-vectors-negative300', (4032, 2)),\n",
       "              ('K_GoogleNews-vectors-negative300', (268, 2)),\n",
       "              ('L_PubMed-w2v', (10643, 2)),\n",
       "              ('K_PubMed-w2v', (447, 2)),\n",
       "              ('L_tweetsvec', (25, 2)),\n",
       "              ('K_tweetsvec', (0,)),\n",
       "              ('L_wikipedia-pubmed-and-PMC-w2v', (12074, 2)),\n",
       "              ('K_wikipedia-pubmed-and-PMC-w2v', (490, 2)),\n",
       "              ('L', (109024, 2)),\n",
       "              ('K', (1555, 2))],\n",
       "             'is_associated_anatomic_site_of': [('L_claims_cuis_hs_300.txt',\n",
       "               (0,)),\n",
       "              ('K_claims_cuis_hs_300.txt', (0,)),\n",
       "              ('L_stanford_cuis_svd_300.txt', (0,)),\n",
       "              ('K_stanford_cuis_svd_300.txt', (0,)),\n",
       "              ('L_cui2vec_pretrained', (5716, 2)),\n",
       "              ('K_cui2vec_pretrained', (692, 2)),\n",
       "              ('L_DeVine_etal_200', (4938, 2)),\n",
       "              ('K_DeVine_etal_200', (598, 2)),\n",
       "              ('L_PMC-w2v', (1660, 2)),\n",
       "              ('K_PMC-w2v', (78, 2)),\n",
       "              ('L_Health_2.5mreviews.s200.w10.n5.v15.cbow', (204, 2)),\n",
       "              ('K_Health_2.5mreviews.s200.w10.n5.v15.cbow', (22, 2)),\n",
       "              ('L_PubMed-and-PMC-w2v', (1797, 2)),\n",
       "              ('K_PubMed-and-PMC-w2v', (81, 2)),\n",
       "              ('L_GoogleNews-vectors-negative300', (943, 2)),\n",
       "              ('K_GoogleNews-vectors-negative300', (66, 2)),\n",
       "              ('L_PubMed-w2v', (1772, 2)),\n",
       "              ('K_PubMed-w2v', (81, 2)),\n",
       "              ('L_tweetsvec', (63, 2)),\n",
       "              ('K_tweetsvec', (15, 2)),\n",
       "              ('L_wikipedia-pubmed-and-PMC-w2v', (1799, 2)),\n",
       "              ('K_wikipedia-pubmed-and-PMC-w2v', (81, 2)),\n",
       "              ('L', (38394, 2)),\n",
       "              ('K', (2401, 2))],\n",
       "             'manifestation_of': [('L_claims_cuis_hs_300.txt', (236, 2)),\n",
       "              ('K_claims_cuis_hs_300.txt', (21, 2)),\n",
       "              ('L_stanford_cuis_svd_300.txt', (0,)),\n",
       "              ('K_stanford_cuis_svd_300.txt', (0,)),\n",
       "              ('L_cui2vec_pretrained', (6295, 2)),\n",
       "              ('K_cui2vec_pretrained', (245, 2)),\n",
       "              ('L_DeVine_etal_200', (5532, 2)),\n",
       "              ('K_DeVine_etal_200', (219, 2)),\n",
       "              ('L_PMC-w2v', (9734, 2)),\n",
       "              ('K_PMC-w2v', (409, 2)),\n",
       "              ('L_Health_2.5mreviews.s200.w10.n5.v15.cbow', (99, 2)),\n",
       "              ('K_Health_2.5mreviews.s200.w10.n5.v15.cbow', (9, 2)),\n",
       "              ('L_PubMed-and-PMC-w2v', (11699, 2)),\n",
       "              ('K_PubMed-and-PMC-w2v', (477, 2)),\n",
       "              ('L_GoogleNews-vectors-negative300', (4032, 2)),\n",
       "              ('K_GoogleNews-vectors-negative300', (268, 2)),\n",
       "              ('L_PubMed-w2v', (10643, 2)),\n",
       "              ('K_PubMed-w2v', (447, 2)),\n",
       "              ('L_tweetsvec', (25, 2)),\n",
       "              ('K_tweetsvec', (0,)),\n",
       "              ('L_wikipedia-pubmed-and-PMC-w2v', (12074, 2)),\n",
       "              ('K_wikipedia-pubmed-and-PMC-w2v', (490, 2)),\n",
       "              ('L', (109024, 2)),\n",
       "              ('K', (1555, 2))],\n",
       "             'may_be_treated_by': [('L_claims_cuis_hs_300.txt', (1571, 2)),\n",
       "              ('K_claims_cuis_hs_300.txt', (240, 2)),\n",
       "              ('L_stanford_cuis_svd_300.txt', (0,)),\n",
       "              ('K_stanford_cuis_svd_300.txt', (0,)),\n",
       "              ('L_cui2vec_pretrained', (7522, 2)),\n",
       "              ('K_cui2vec_pretrained', (664, 2)),\n",
       "              ('L_DeVine_etal_200', (6806, 2)),\n",
       "              ('K_DeVine_etal_200', (563, 2)),\n",
       "              ('L_PMC-w2v', (3698, 2)),\n",
       "              ('K_PMC-w2v', (391, 2)),\n",
       "              ('L_Health_2.5mreviews.s200.w10.n5.v15.cbow', (1118, 2)),\n",
       "              ('K_Health_2.5mreviews.s200.w10.n5.v15.cbow', (163, 2)),\n",
       "              ('L_PubMed-and-PMC-w2v', (4125, 2)),\n",
       "              ('K_PubMed-and-PMC-w2v', (427, 2)),\n",
       "              ('L_GoogleNews-vectors-negative300', (2548, 2)),\n",
       "              ('K_GoogleNews-vectors-negative300', (265, 2)),\n",
       "              ('L_PubMed-w2v', (4093, 2)),\n",
       "              ('K_PubMed-w2v', (426, 2)),\n",
       "              ('L_tweetsvec', (461, 2)),\n",
       "              ('K_tweetsvec', (88, 2)),\n",
       "              ('L_wikipedia-pubmed-and-PMC-w2v', (4143, 2)),\n",
       "              ('K_wikipedia-pubmed-and-PMC-w2v', (429, 2)),\n",
       "              ('L', (14338, 2)),\n",
       "              ('K', (1208, 2))],\n",
       "             'may_treat': [('L_claims_cuis_hs_300.txt', (1571, 2)),\n",
       "              ('K_claims_cuis_hs_300.txt', (240, 2)),\n",
       "              ('L_stanford_cuis_svd_300.txt', (0,)),\n",
       "              ('K_stanford_cuis_svd_300.txt', (0,)),\n",
       "              ('L_cui2vec_pretrained', (7522, 2)),\n",
       "              ('K_cui2vec_pretrained', (664, 2)),\n",
       "              ('L_DeVine_etal_200', (6806, 2)),\n",
       "              ('K_DeVine_etal_200', (563, 2)),\n",
       "              ('L_PMC-w2v', (3698, 2)),\n",
       "              ('K_PMC-w2v', (391, 2)),\n",
       "              ('L_Health_2.5mreviews.s200.w10.n5.v15.cbow', (1118, 2)),\n",
       "              ('K_Health_2.5mreviews.s200.w10.n5.v15.cbow', (163, 2)),\n",
       "              ('L_PubMed-and-PMC-w2v', (4125, 2)),\n",
       "              ('K_PubMed-and-PMC-w2v', (427, 2)),\n",
       "              ('L_GoogleNews-vectors-negative300', (2548, 2)),\n",
       "              ('K_GoogleNews-vectors-negative300', (265, 2)),\n",
       "              ('L_PubMed-w2v', (4093, 2)),\n",
       "              ('K_PubMed-w2v', (426, 2)),\n",
       "              ('L_tweetsvec', (461, 2)),\n",
       "              ('K_tweetsvec', (88, 2)),\n",
       "              ('L_wikipedia-pubmed-and-PMC-w2v', (4143, 2)),\n",
       "              ('K_wikipedia-pubmed-and-PMC-w2v', (429, 2)),\n",
       "              ('L', (14338, 2)),\n",
       "              ('K', (1208, 2))],\n",
       "             '': [('L_claims_cuis_hs_300.txt', (112445, 2)),\n",
       "              ('K_claims_cuis_hs_300.txt', (3831, 2)),\n",
       "              ('L_stanford_cuis_svd_300.txt', (0,)),\n",
       "              ('K_stanford_cuis_svd_300.txt', (0,)),\n",
       "              ('L_cui2vec_pretrained', (586520, 2)),\n",
       "              ('K_cui2vec_pretrained', (50948, 2)),\n",
       "              ('L_DeVine_etal_200', (381181, 2)),\n",
       "              ('K_DeVine_etal_200', (38584, 2)),\n",
       "              ('L_PMC-w2v', (1041954, 2)),\n",
       "              ('K_PMC-w2v', (322677, 2)),\n",
       "              ('L_Health_2.5mreviews.s200.w10.n5.v15.cbow', (153939, 2)),\n",
       "              ('K_Health_2.5mreviews.s200.w10.n5.v15.cbow', (67620, 2)),\n",
       "              ('L_PubMed-and-PMC-w2v', (1147669, 2)),\n",
       "              ('K_PubMed-and-PMC-w2v', (341214, 2)),\n",
       "              ('L_GoogleNews-vectors-negative300', (572600, 2)),\n",
       "              ('K_GoogleNews-vectors-negative300', (204076, 2)),\n",
       "              ('L_PubMed-w2v', (1104182, 2)),\n",
       "              ('K_PubMed-w2v', (338288, 2)),\n",
       "              ('L_tweetsvec', (62224, 2)),\n",
       "              ('K_tweetsvec', (24436, 2)),\n",
       "              ('L_wikipedia-pubmed-and-PMC-w2v', (1183910, 2)),\n",
       "              ('K_wikipedia-pubmed-and-PMC-w2v', (342468, 2)),\n",
       "              ('L', (13366136, 2)),\n",
       "              ('K', (703264, 2))]})"
      ]
     },
     "execution_count": 13,
     "metadata": {},
     "output_type": "execute_result"
    }
   ],
   "source": [
    "sets_relations"
   ]
  },
  {
   "cell_type": "markdown",
   "id": "aerial-dover",
   "metadata": {},
   "source": [
    "#### K and L cardinality data preparation"
   ]
  },
  {
   "cell_type": "code",
   "execution_count": 14,
   "id": "regional-consideration",
   "metadata": {},
   "outputs": [],
   "source": [
    "sets_rels_ordered = {}\n",
    "for key, values in sets_relations.items():\n",
    "    sets_rels_ordered[key] = ([val[1][0] for i, val in enumerate(values) if (i%2==0)], [val[1][0] for i, val in enumerate(values) if (i%2!=0)])    "
   ]
  },
  {
   "cell_type": "markdown",
   "id": "inner-wealth",
   "metadata": {},
   "source": [
    "# Plot with repetead couples"
   ]
  },
  {
   "cell_type": "markdown",
   "id": "floating-valuable",
   "metadata": {},
   "source": [
    "### Plot K_sets cardinality"
   ]
  },
  {
   "cell_type": "code",
   "execution_count": 151,
   "id": "extra-metabolism",
   "metadata": {},
   "outputs": [
    {
     "data": {
      "text/plain": [
       "Text(0, 0.5, 'Cardinality')"
      ]
     },
     "execution_count": 151,
     "metadata": {},
     "output_type": "execute_result"
    },
    {
     "data": {
      "image/png": "[encoded data removed]",
      "text/plain": [
       "<Figure size 2160x720 with 1 Axes>"
      ]
     },
     "metadata": {
      "needs_background": "light"
     },
     "output_type": "display_data"
    }
   ],
   "source": [
    "df_list = {}\n",
    "names = embeddings[0][1]+embeddings[1][1]\n",
    "\n",
    "for rela, i in sets_rels_ordered.items():\n",
    "    #print(i[1])\n",
    "    if rela == '':\n",
    "        break\n",
    "    df_list[rela] = i[1][:-1]\n",
    "\n",
    "    \n",
    "plotdata = pd.DataFrame(df_list, index = names)\n",
    "plotdata.plot(kind=\"bar\")\n",
    "\n",
    "plt.title(\"K_sets\")\n",
    "plt.xticks(rotation = 30)\n",
    "plt.ylabel(\"Cardinality\")"
   ]
  },
  {
   "cell_type": "markdown",
   "id": "lonely-direction",
   "metadata": {},
   "source": [
    "### Plot L-sets cardinality"
   ]
  },
  {
   "cell_type": "code",
   "execution_count": 152,
   "id": "australian-thermal",
   "metadata": {},
   "outputs": [
    {
     "data": {
      "text/plain": [
       "Text(0, 0.5, 'Cardinality')"
      ]
     },
     "execution_count": 152,
     "metadata": {},
     "output_type": "execute_result"
    },
    {
     "data": {
      "image/png": "[encoded data removed]",
      "text/plain": [
       "<Figure size 2160x720 with 1 Axes>"
      ]
     },
     "metadata": {
      "needs_background": "light"
     },
     "output_type": "display_data"
    }
   ],
   "source": [
    "df_list = {}\n",
    "names = embeddings[0][1]+embeddings[1][1]\n",
    "\n",
    "for rela, i in sets_rels_ordered.items():\n",
    "    #print(i[1])\n",
    "    if rela == '':\n",
    "        break\n",
    "    df_list[rela] = i[0][:-1]\n",
    "\n",
    "    \n",
    "plotdata = pd.DataFrame(df_list, index = names)\n",
    "plotdata.plot(kind=\"bar\")\n",
    "\n",
    "plt.title(\"L_sets\")\n",
    "plt.xticks(rotation = 30)\n",
    "plt.ylabel(\"Cardinality\")"
   ]
  },
  {
   "cell_type": "markdown",
   "id": "touched-pattern",
   "metadata": {},
   "source": [
    "# Plot without repeated couples"
   ]
  },
  {
   "cell_type": "markdown",
   "id": "rural-recording",
   "metadata": {},
   "source": [
    "### Plot K_sets cardinality"
   ]
  },
  {
   "cell_type": "code",
   "execution_count": 18,
   "id": "informal-breeding",
   "metadata": {},
   "outputs": [
    {
     "data": {
      "text/plain": [
       "Text(0, 0.5, 'Cardinality')"
      ]
     },
     "execution_count": 18,
     "metadata": {},
     "output_type": "execute_result"
    },
    {
     "data": {
      "image/png": "[encoded data removed]",
      "text/plain": [
       "<Figure size 2160x720 with 1 Axes>"
      ]
     },
     "metadata": {
      "needs_background": "light"
     },
     "output_type": "display_data"
    }
   ],
   "source": [
    "df_list = {}\n",
    "names = embeddings[0][1]+embeddings[1][1]\n",
    "\n",
    "plt.rcParams[\"figure.figsize\"] = (30,10)\n",
    "\n",
    "for rela, i in sets_rels_ordered.items():\n",
    "    #print(i[1])\n",
    "    if rela == '':\n",
    "        break\n",
    "    df_list[rela] = i[1][:-1]\n",
    "\n",
    "    \n",
    "plotdata = pd.DataFrame(df_list, index = names)\n",
    "plotdata.plot(kind=\"bar\")\n",
    "\n",
    "plt.title(\"K_sets\")\n",
    "plt.xticks(rotation = 30)\n",
    "plt.ylabel(\"Cardinality\")"
   ]
  },
  {
   "cell_type": "markdown",
   "id": "pregnant-survival",
   "metadata": {},
   "source": [
    "### Plot L-sets cardinality"
   ]
  },
  {
   "cell_type": "code",
   "execution_count": 19,
   "id": "southeast-archives",
   "metadata": {},
   "outputs": [
    {
     "data": {
      "text/plain": [
       "Text(0, 0.5, 'Cardinality')"
      ]
     },
     "execution_count": 19,
     "metadata": {},
     "output_type": "execute_result"
    },
    {
     "data": {
      "image/png": "[encoded data removed]",
      "text/plain": [
       "<Figure size 2160x720 with 1 Axes>"
      ]
     },
     "metadata": {
      "needs_background": "light"
     },
     "output_type": "display_data"
    }
   ],
   "source": [
    "df_list = {}\n",
    "names = embeddings[0][1]+embeddings[1][1]\n",
    "\n",
    "for rela, i in sets_rels_ordered.items():\n",
    "    #print(i[1])\n",
    "    if rela == '':\n",
    "        break\n",
    "    df_list[rela] = i[0][:-1]\n",
    "\n",
    "    \n",
    "plotdata = pd.DataFrame(df_list, index = names)\n",
    "plotdata.plot(kind=\"bar\")\n",
    "\n",
    "plt.title(\"L_sets\")\n",
    "plt.xticks(rotation = 30)\n",
    "plt.ylabel(\"Cardinality\")"
   ]
  },
  {
   "cell_type": "markdown",
   "id": "actual-invite",
   "metadata": {},
   "source": [
    "### Extracting labels by K_umls_copd pairs, for understanding the semantics of each relations "
   ]
  },
  {
   "cell_type": "code",
   "execution_count": 3,
   "id": "brown-pastor",
   "metadata": {},
   "outputs": [
    {
     "name": "stdout",
     "output_type": "stream",
     "text": [
      "0:00:15\n"
     ]
    }
   ],
   "source": [
    "#dict_strings = umls_tables_processing.cui_strings()\n",
    "dict_strings = utils.inputs_load('Utilities/dict_conso')"
   ]
  },
  {
   "cell_type": "markdown",
   "id": "bacterial-seating",
   "metadata": {},
   "source": [
    "This print showed how the concepts are related each others in UMLS: they have reverse direction. \n",
    "\n",
    "The first element of couple is semantically the second one, which is bounded thanks to a relation to the second element of couple, which is semantically the first one.\n",
    "\n",
    "The methods in `umls_tables_processing` already compute the reversing operation"
   ]
  },
  {
   "cell_type": "code",
   "execution_count": 10,
   "id": "patent-professional",
   "metadata": {
    "collapsed": true
   },
   "outputs": [
    {
     "name": "stdout",
     "output_type": "stream",
     "text": [
      "('C0024117', 'C0001792')\n",
      "0:00:00\n",
      "0:00:00\n",
      "Chronic Obstructive Airway Disease  Elderly (population group)\n",
      "\n",
      "('C0024117', 'C0001883')\n",
      "0:00:00\n",
      "0:00:00\n",
      "Chronic Obstructive Airway Disease isa Airway Obstruction\n",
      "\n",
      "('C0024117', 'C0004096')\n",
      "0:00:00\n",
      "0:00:00\n",
      "Chronic Obstructive Airway Disease related_to ARNASESTUA\n",
      "\n",
      "('C0024117', 'C0006267')\n",
      "0:00:00\n",
      "0:00:00\n",
      "Chronic Obstructive Airway Disease inverse_isa Bronchiectasis\n",
      "\n",
      "('C0024117', 'C0006270')\n",
      "0:00:00\n",
      "0:00:00\n",
      "Chronic Obstructive Airway Disease has_finding_site Bronchioles\n",
      "\n",
      "('C0024117', 'C0024109')\n",
      "0:00:00\n",
      "0:00:00\n",
      "Chronic Obstructive Airway Disease disease_has_associated_anatomic_site Lung\n",
      "\n",
      "('C0024117', 'C0024117')\n",
      "0:00:00\n",
      "0:00:00\n",
      "Chronic Obstructive Airway Disease see_from Chronic Obstructive Airway Disease\n",
      "\n",
      "('C0024117', 'C0024117')\n",
      "0:00:00\n",
      "0:00:00\n",
      "Chronic Obstructive Airway Disease entry_version_of Chronic Obstructive Airway Disease\n",
      "\n",
      "('C0040233', 'C0024117')\n",
      "0:00:00\n",
      "0:00:00\n",
      "timolol contraindicated_with_disease Chronic Obstructive Airway Disease\n",
      "\n",
      "('C0965618', 'C0024117')\n",
      "0:00:00\n",
      "0:00:00\n",
      "roflumilast may_treat Chronic Obstructive Airway Disease\n",
      "\n",
      "('C1847014', 'C0024117')\n",
      "0:00:00\n",
      "0:00:00\n",
      "PULMONARY DISEASE, CHRONIC OBSTRUCTIVE, SEVERE EARLY-ONSET mapped_to Chronic Obstructive Airway Disease\n",
      "\n",
      "('C0024117', 'C0024117')\n",
      "0:00:00\n",
      "0:00:00\n",
      "Chronic Obstructive Airway Disease see Chronic Obstructive Airway Disease\n",
      "\n",
      "('C0024117', 'C0024117')\n",
      "0:00:00\n",
      "0:00:00\n",
      "Chronic Obstructive Airway Disease use Chronic Obstructive Airway Disease\n",
      "\n",
      "('C0024109', 'C0024117')\n",
      "0:00:00\n",
      "0:00:00\n",
      "Lung is_associated_anatomic_site_of Chronic Obstructive Airway Disease\n",
      "\n",
      "('C0034067', 'C0024117')\n",
      "0:00:00\n",
      "0:00:00\n",
      "ENFISEMA/ BRONKONEUMOPATIA KRONIKO OBSTRUKTIBOA has_cdrh_parent Chronic Obstructive Airway Disease\n",
      "\n",
      "('C1426195', 'C0024117')\n",
      "0:00:00\n",
      "0:00:00\n",
      "FAM13A gene gene_associated_with_disease Chronic Obstructive Airway Disease\n",
      "\n",
      "('C1709489', 'C0024117')\n",
      "0:00:00\n",
      "0:00:00\n",
      "Patient Problem Codes FDA CDRH cdrh_parent_of Chronic Obstructive Airway Disease\n",
      "\n",
      "('C1709489', 'C0024117')\n",
      "0:00:00\n",
      "0:00:00\n",
      "Patient Problem Codes FDA CDRH subset_includes_concept Chronic Obstructive Airway Disease\n",
      "\n",
      "('C2983547', 'C0024117')\n",
      "0:00:00\n",
      "0:00:00\n",
      "Protein FAM13A gene_product_malfunction_associated_with_disease Chronic Obstructive Airway Disease\n",
      "\n",
      "('C0221757', 'C0024117')\n",
      "0:00:00\n",
      "0:00:00\n",
      "alpha 1-Antitrypsin Deficiency has_manifestation Chronic Obstructive Airway Disease\n",
      "\n",
      "('C0024117', 'C0024117')\n",
      "0:00:00\n",
      "0:00:00\n",
      "Chronic Obstructive Airway Disease has_entry_version Chronic Obstructive Airway Disease\n",
      "\n",
      "('C0024117', 'C0024117')\n",
      "0:00:00\n",
      "0:00:00\n",
      "Chronic Obstructive Airway Disease used_for Chronic Obstructive Airway Disease\n",
      "\n",
      "('C0024117', 'C0024117')\n",
      "0:00:00\n",
      "0:00:00\n",
      "Chronic Obstructive Airway Disease has_expanded_form Chronic Obstructive Airway Disease\n",
      "\n",
      "('C2739393', 'C0024117')\n",
      "0:00:00\n",
      "0:00:00\n",
      "Asthma &or chronic obstructive lung disease or chronic lung disease in last 7D:Find:7D:^Patient:Ord:MDSv3 has_fragments_for_synonyms Chronic Obstructive Airway Disease\n",
      "\n",
      "('C0024117', 'C0024117')\n",
      "0:00:00\n",
      "0:00:00\n",
      "Chronic Obstructive Airway Disease expanded_form_of Chronic Obstructive Airway Disease\n",
      "\n",
      "('C0024117', 'C0024117')\n",
      "0:00:00\n",
      "0:00:00\n",
      "Chronic Obstructive Airway Disease inverse_was_a Chronic Obstructive Airway Disease\n",
      "\n",
      "('C0006270', 'C0024117')\n",
      "0:00:00\n",
      "0:00:00\n",
      "Bronchioles finding_site_of Chronic Obstructive Airway Disease\n",
      "\n",
      "('C0028778', 'C0024117')\n",
      "0:00:00\n",
      "0:00:00\n",
      "Obstruction associated_morphology_of Chronic Obstructive Airway Disease\n",
      "\n",
      "('C0205191', 'C0024117')\n",
      "0:00:00\n",
      "0:00:00\n",
      "chronic clinical_course_of Chronic Obstructive Airway Disease\n",
      "\n",
      "('C0205191', 'C0024117')\n",
      "0:00:00\n",
      "0:00:00\n",
      "chronic course_of Chronic Obstructive Airway Disease\n",
      "\n",
      "('C0024117', 'C0024117')\n",
      "0:00:00\n",
      "0:00:00\n",
      "Chronic Obstructive Airway Disease same_as Chronic Obstructive Airway Disease\n",
      "\n",
      "('C0024117', 'C0024117')\n",
      "0:00:00\n",
      "0:00:00\n",
      "Chronic Obstructive Airway Disease possibly_equivalent_to Chronic Obstructive Airway Disease\n",
      "\n",
      "('C0024117', 'C0024117')\n",
      "0:00:00\n",
      "0:00:00\n",
      "Chronic Obstructive Airway Disease mapped_from Chronic Obstructive Airway Disease\n",
      "\n",
      "('C2598517', 'C0024117')\n",
      "0:00:00\n",
      "0:00:00\n",
      "History of diseases:Hx:Pt:^Patient:Nom:USSG-FHT has_answer Chronic Obstructive Airway Disease\n",
      "\n",
      "('C0024117', 'C0024117')\n",
      "0:00:00\n",
      "0:00:00\n",
      "Chronic Obstructive Airway Disease was_a Chronic Obstructive Airway Disease\n",
      "\n",
      "('C0420047', 'C0024117')\n",
      "0:00:00\n",
      "0:00:00\n",
      "Chronic obstructive pulmonary disease screening has_focus Chronic Obstructive Airway Disease\n",
      "\n",
      "('C0455410', 'C0024117')\n",
      "0:00:00\n",
      "0:00:00\n",
      "FH: Bronchitis/COAD has_associated_finding Chronic Obstructive Airway Disease\n",
      "\n",
      "('C3550579', 'C0024117')\n",
      "0:00:00\n",
      "0:00:00\n",
      "Chronic obstructive airway disease from birth replaced_by Chronic Obstructive Airway Disease\n",
      "\n",
      "('C0302378', 'C0024117')\n",
      "0:00:00\n",
      "0:00:00\n",
      "Chronic airway obstruction, NEC in ICD9CM_2014 classified_as Chronic Obstructive Airway Disease\n",
      "\n",
      "('C0024117', 'C0028778')\n",
      "0:00:00\n",
      "0:00:00\n",
      "Chronic Obstructive Airway Disease has_associated_morphology Obstruction\n",
      "\n",
      "('C0024117', 'C0040233')\n",
      "0:00:00\n",
      "0:00:00\n",
      "Chronic Obstructive Airway Disease has_contraindicated_drug timolol\n",
      "\n",
      "('C0024117', 'C0086795')\n",
      "0:00:00\n",
      "0:00:00\n",
      "Chronic Obstructive Airway Disease manifestation_of Pfaundler-Hurler Syndrome\n",
      "\n",
      "('C0024117', 'C0205191')\n",
      "0:00:00\n",
      "0:00:00\n",
      "Chronic Obstructive Airway Disease has_clinical_course chronic\n",
      "\n",
      "('C0024117', 'C0205191')\n",
      "0:00:00\n",
      "0:00:00\n",
      "Chronic Obstructive Airway Disease has_course chronic\n",
      "\n",
      "('C0024117', 'C0302378')\n",
      "0:00:00\n",
      "0:00:00\n",
      "Chronic Obstructive Airway Disease classifies Chronic airway obstruction, NEC in ICD9CM_2014\n",
      "\n",
      "('C0024117', 'C0420047')\n",
      "0:00:00\n",
      "0:00:00\n",
      "Chronic Obstructive Airway Disease focus_of Chronic obstructive pulmonary disease screening\n",
      "\n",
      "('C0024117', 'C0455410')\n",
      "0:00:00\n",
      "0:00:00\n",
      "Chronic Obstructive Airway Disease associated_finding_of FH: Bronchitis/COAD\n",
      "\n",
      "('C0024117', 'C0965618')\n",
      "0:00:00\n",
      "0:00:00\n",
      "Chronic Obstructive Airway Disease may_be_treated_by roflumilast\n",
      "\n",
      "('C0024117', 'C1426195')\n",
      "0:00:00\n",
      "0:00:00\n",
      "Chronic Obstructive Airway Disease disease_has_associated_gene FAM13A gene\n",
      "\n",
      "('C0024117', 'C1709489')\n",
      "0:00:00\n",
      "0:00:00\n",
      "Chronic Obstructive Airway Disease concept_in_subset Patient Problem Codes FDA CDRH\n",
      "\n",
      "('C0024117', 'C1716497')\n",
      "0:00:00\n",
      "0:00:00\n",
      "Chronic Obstructive Airway Disease fragments_for_synonyms_of Emphysema or COPD:Find:Pt:^Patient:Ord:MDS\n",
      "\n",
      "('C0024117', 'C2598517')\n",
      "0:00:00\n",
      "0:00:00\n",
      "Chronic Obstructive Airway Disease answer_to History of diseases:Hx:Pt:^Patient:Nom:USSG-FHT\n",
      "\n",
      "('C0024117', 'C2983547')\n",
      "0:00:00\n",
      "0:00:00\n",
      "Chronic Obstructive Airway Disease associated_with_malfunction_of_gene_product Protein FAM13A\n",
      "\n",
      "('C0024117', 'C3550579')\n",
      "0:00:00\n",
      "0:00:00\n",
      "Chronic Obstructive Airway Disease replaces Chronic obstructive airway disease from birth\n",
      "\n"
     ]
    }
   ],
   "source": [
    "for k,v in K_umls_copd.items():\n",
    "    print(v[0])\n",
    "    first = list(zip(*v))[0][0] \n",
    "    first, _ = umls_tables_processing.extracting_strings([first], dict_strings = dict_strings)\n",
    "    second = list(zip(*v))[1][0]\n",
    "    second, _ = umls_tables_processing.extracting_strings([second], dict_strings = dict_strings)\n",
    "    print(str(list(first.values())[0][0])+ ' ' + k + ' ' + str(list(second.values())[0][0]) + '\\n')"
   ]
  },
  {
   "cell_type": "markdown",
   "id": "spare-water",
   "metadata": {},
   "source": [
    "### A toy example is coded below for our analogy computation:"
   ]
  },
  {
   "cell_type": "markdown",
   "id": "intellectual-fisher",
   "metadata": {},
   "source": [
    "A CUI embedding is loaded"
   ]
  },
  {
   "cell_type": "code",
   "execution_count": 6,
   "id": "scientific-framing",
   "metadata": {},
   "outputs": [
    {
     "name": "stdout",
     "output_type": "stream",
     "text": [
      "0:00:22\n"
     ]
    }
   ],
   "source": [
    "dv = 'Embeddings/cuis/DeVine_etal_200.txt'\n",
    "\n",
    "a = datetime.datetime.now().replace(microsecond=0)\n",
    "model = KeyedVectors.load_word2vec_format(dv, binary=False)\n",
    "print(datetime.datetime.now().replace(microsecond=0)-a)"
   ]
  },
  {
   "cell_type": "code",
   "execution_count": 18,
   "id": "living-services",
   "metadata": {},
   "outputs": [],
   "source": [
    "rela = 'may_treat'"
   ]
  },
  {
   "cell_type": "markdown",
   "id": "permanent-optimization",
   "metadata": {},
   "source": [
    "A random `RELA` is choosen"
   ]
  },
  {
   "cell_type": "code",
   "execution_count": 19,
   "id": "lined-indiana",
   "metadata": {},
   "outputs": [
    {
     "data": {
      "text/plain": [
       "1208"
      ]
     },
     "execution_count": 19,
     "metadata": {},
     "output_type": "execute_result"
    }
   ],
   "source": [
    "len(K_umls[rela])"
   ]
  },
  {
   "cell_type": "code",
   "execution_count": 20,
   "id": "ancient-closer",
   "metadata": {},
   "outputs": [
    {
     "name": "stdout",
     "output_type": "stream",
     "text": [
      "(2, 1208)\n",
      "L=k\n",
      "0:00:00\n",
      "563\n"
     ]
    }
   ],
   "source": [
    "l0, k0 = measures.k_n_l_iov(K_umls[rela], K_umls[rela], model, emb_type = 'cui')"
   ]
  },
  {
   "cell_type": "markdown",
   "id": "functioning-mentor",
   "metadata": {},
   "source": [
    "With `l0=k0` "
   ]
  },
  {
   "cell_type": "code",
   "execution_count": 19,
   "id": "optional-parent",
   "metadata": {},
   "outputs": [
    {
     "data": {
      "text/plain": [
       "True"
      ]
     },
     "execution_count": 19,
     "metadata": {},
     "output_type": "execute_result"
    }
   ],
   "source": [
    "len(l0)==len(k0)"
   ]
  },
  {
   "cell_type": "code",
   "execution_count": 20,
   "id": "convenient-stick",
   "metadata": {},
   "outputs": [
    {
     "name": "stdout",
     "output_type": "stream",
     "text": [
      "563\n"
     ]
    }
   ],
   "source": [
    "print(len(l0))"
   ]
  },
  {
   "cell_type": "code",
   "execution_count": 21,
   "id": "bearing-frontier",
   "metadata": {},
   "outputs": [
    {
     "data": {
      "text/plain": [
       "316969"
      ]
     },
     "execution_count": 21,
     "metadata": {},
     "output_type": "execute_result"
    }
   ],
   "source": [
    "len(l0)*len(l0)"
   ]
  },
  {
   "cell_type": "markdown",
   "id": "interior-illness",
   "metadata": {},
   "source": [
    "Code lines taken from `analogy_compute` in `measures`"
   ]
  },
  {
   "cell_type": "code",
   "execution_count": 22,
   "id": "seeing-disclaimer",
   "metadata": {},
   "outputs": [
    {
     "name": "stdout",
     "output_type": "stream",
     "text": [
      "0:50:08\n"
     ]
    }
   ],
   "source": [
    "a = datetime.datetime.now().replace(microsecond=0)\n",
    "storing_list_add = []\n",
    "storing_list_mul = []\n",
    "storing_list_dir = []\n",
    "k_most_similar = 10\n",
    "eps = 0.0001\n",
    "\n",
    "for concept_L in l0:\n",
    "    for concept_K in k0:\n",
    "        # This check returns a number of analogy computed fewer than the number of starting pairs (K and L)\n",
    "        if concept_L != concept_K:\n",
    "            #if len(check)==0:\n",
    "            storing_list_add = measures.cos3add(concept_L, concept_K, model, k_most_similar, storing_list_add)\n",
    "            storing_list_mul = measures.cos3mul(concept_L, concept_K, model, storing_list_mul, epsilon = eps)\n",
    "            storing_list_dir = measures.pair_direction(concept_L, concept_K, model, storing_list_dir, epsilon = eps)\n",
    "\n",
    "print(datetime.datetime.now().replace(microsecond=0)-a)"
   ]
  },
  {
   "cell_type": "markdown",
   "id": "practical-graphics",
   "metadata": {},
   "source": [
    "Magnitude of 3CosAdd, normalized for the number of computations: it does not correspond to the exact product"
   ]
  },
  {
   "cell_type": "markdown",
   "id": "secondary-argument",
   "metadata": {},
   "source": [
    "The same pairs are discarded"
   ]
  },
  {
   "cell_type": "code",
   "execution_count": 23,
   "id": "enclosed-freeze",
   "metadata": {},
   "outputs": [
    {
     "name": "stdout",
     "output_type": "stream",
     "text": [
      "The occurrences using 3CosAdd (analogic reasoning), for rela may_treat  is: 0.033216816368842564\n"
     ]
    }
   ],
   "source": [
    "print('The occurrences using 3CosAdd (analogic reasoning), for rela ' +rela+ '  is: '+str(sum(list(zip(*storing_list_add))[2])/len(storing_list_add)))"
   ]
  },
  {
   "cell_type": "code",
   "execution_count": 24,
   "id": "russian-trainer",
   "metadata": {},
   "outputs": [
    {
     "name": "stdout",
     "output_type": "stream",
     "text": [
      "The occurrences using 3CosMul, for rela may_treat  is: 0.5713659039716059\n"
     ]
    }
   ],
   "source": [
    "print('The occurrences using 3CosMul, for rela ' +rela+ '  is: '+str(sum(list(zip(*storing_list_mul))[2])/len(storing_list_mul)))"
   ]
  },
  {
   "cell_type": "code",
   "execution_count": 25,
   "id": "other-spiritual",
   "metadata": {},
   "outputs": [
    {
     "name": "stdout",
     "output_type": "stream",
     "text": [
      "The value of pair_direction, for rela may_treat is: 0.21822307969204216\n"
     ]
    }
   ],
   "source": [
    "print('The value of pair_direction, for rela ' +rela+ ' is: '+str(sum(list(zip(*storing_list_dir))[2])/len(storing_list_dir)))"
   ]
  },
  {
   "cell_type": "markdown",
   "id": "aboriginal-picture",
   "metadata": {},
   "source": [
    "Try to check in place of `1-distance.cosine` the `model.similarity`, just for coherence: checked"
   ]
  },
  {
   "cell_type": "markdown",
   "id": "impressed-cannon",
   "metadata": {},
   "source": [
    "`model.similarity`, the `gensim` method for computing the cosine similarity among words, does not work in this case, because it does not work on vectors, but only on IoV strings. "
   ]
  },
  {
   "cell_type": "markdown",
   "id": "geological-delaware",
   "metadata": {},
   "source": [
    "The following code is taken by https://github.com/rishibommasani/Contextual2Static in particular way, it is interesting the aspect related to the bias computation, thanks to the usage of PCA first component."
   ]
  },
  {
   "cell_type": "code",
   "execution_count": 7,
   "id": "constitutional-northwest",
   "metadata": {},
   "outputs": [],
   "source": [
    "from sklearn.decomposition import PCA\n",
    "from scipy import spatial\n",
    "\n",
    "def compute_bias_direction(embeddings, seed_pairs):\n",
    "    a = datetime.datetime.now().replace(microsecond=0)\n",
    "    diff_embeddings = [embeddings[x] - embeddings[y] for x,y in seed_pairs]\n",
    "    X = np.array(diff_embeddings)\n",
    "    pca = PCA(n_components=1)\n",
    "    pca.fit(X)\n",
    "    print(datetime.datetime.now().replace(microsecond=0)-a)\n",
    "    return pca.components_[0], pca.explained_variance_ratio_[0]\n",
    "\n",
    "\n",
    "def compute_bias_on_emb(model, g):\n",
    "    vemb = utils.extract_w2v_vocab(model)\n",
    "    print(len(vemb))\n",
    "    return sum([(1 - spatial.distance.cosine(model[w],g)) for w in vemb]) / len(vemb)"
   ]
  },
  {
   "cell_type": "code",
   "execution_count": 50,
   "id": "united-springfield",
   "metadata": {},
   "outputs": [
    {
     "name": "stdout",
     "output_type": "stream",
     "text": [
      "1208\n",
      "(2, 1208)\n",
      "0:00:00\n",
      "563\n",
      "0:00:01\n",
      "200\n"
     ]
    }
   ],
   "source": [
    "print(len(K_umls['may_treat']))\n",
    "\n",
    "l0, k0 = measures.k_n_l_iov(K_umls['may_treat'], K_umls['may_treat'], model, emb_type = 'cui')\n",
    "print(len(l0))\n",
    "\n",
    "a, b = compute_bias_direction(model, l0)\n",
    "\n",
    "print(len(a))"
   ]
  },
  {
   "cell_type": "markdown",
   "id": "rational-secretary",
   "metadata": {},
   "source": [
    "Check the time requested for computing the direction for one of the biggest list of pairs:"
   ]
  },
  {
   "cell_type": "code",
   "execution_count": 54,
   "id": "voluntary-third",
   "metadata": {},
   "outputs": [
    {
     "name": "stdout",
     "output_type": "stream",
     "text": [
      "(2, 371662)\n",
      "0:04:38\n",
      "0:00:05\n"
     ]
    }
   ],
   "source": [
    "l0, k0 = measures.k_n_l_iov(L_umls['finding_site_of'], K_umls['finding_site_of'], model, emb_type = 'cui')\n",
    "direct, _ = compute_bias_direction(model, l0)"
   ]
  },
  {
   "cell_type": "markdown",
   "id": "remarkable-sponsorship",
   "metadata": {},
   "source": [
    "The computation is cheap in terms of time. Just 5 seconds for a list of couple of cardinality:"
   ]
  },
  {
   "cell_type": "code",
   "execution_count": 55,
   "id": "dying-mistake",
   "metadata": {},
   "outputs": [
    {
     "name": "stdout",
     "output_type": "stream",
     "text": [
      "54727\n"
     ]
    }
   ],
   "source": [
    "print(len(l0))"
   ]
  },
  {
   "cell_type": "markdown",
   "id": "sufficient-beach",
   "metadata": {},
   "source": [
    "The 4 minutes time is related to the couple IoV filtering time"
   ]
  },
  {
   "cell_type": "code",
   "execution_count": 59,
   "id": "hydraulic-charm",
   "metadata": {},
   "outputs": [
    {
     "data": {
      "text/plain": [
       "0.2763405913983587"
      ]
     },
     "execution_count": 59,
     "metadata": {},
     "output_type": "execute_result"
    }
   ],
   "source": [
    "compute_bias_on_emb(model, direct)"
   ]
  },
  {
   "cell_type": "code",
   "execution_count": 82,
   "id": "attached-horizon",
   "metadata": {},
   "outputs": [],
   "source": [
    "def compute_bias_on_K(K, model, g):\n",
    "    first = set(list(zip(*K))[0])\n",
    "    second = set(list(zip(*K))[1])\n",
    "    first.update(second)\n",
    "    print(len(first))\n",
    "    return sum([(1 - spatial.distance.cosine(model[w],g)) for w in list(first)]) / len(first)"
   ]
  },
  {
   "cell_type": "code",
   "execution_count": 83,
   "id": "hindu-petroleum",
   "metadata": {},
   "outputs": [
    {
     "name": "stdout",
     "output_type": "stream",
     "text": [
      "954\n"
     ]
    },
    {
     "data": {
      "text/plain": [
       "0.25917779648394873"
      ]
     },
     "execution_count": 83,
     "metadata": {},
     "output_type": "execute_result"
    }
   ],
   "source": [
    "compute_bias_on_K(k0, model, direct)"
   ]
  },
  {
   "cell_type": "markdown",
   "id": "bigger-yugoslavia",
   "metadata": {},
   "source": [
    "One hypotetical bias-style pipeline could be:\n",
    "- Finding the first component via PCA of the L / K set, and filtering IoV the result.\n",
    "- Calculate the difference between the two related vector-concepts in K set, after filtering IoV the result.\n",
    "- Calculate the mean distance (or any other aggregation function) for each couple-difference and the PCA first component\n",
    "- The result would be relatable to `pair_direction` of even `3CosMul`"
   ]
  },
  {
   "cell_type": "markdown",
   "id": "major-enzyme",
   "metadata": {},
   "source": [
    "Or:\n",
    "- Finding the first component via PCA of the L / K set for a specific relation, and filtering IoV the result.\n",
    "- Finding the first component via PCA of the K set for the same specific relation, and filtering IoV the result.\n",
    "- Calculate the cosine similarity among the two vectors which represent the same rela on two different set."
   ]
  },
  {
   "cell_type": "markdown",
   "id": "upset-seventh",
   "metadata": {},
   "source": [
    "### L / K set building:"
   ]
  },
  {
   "cell_type": "code",
   "execution_count": 23,
   "id": "freelance-adobe",
   "metadata": {},
   "outputs": [
    {
     "name": "stdout",
     "output_type": "stream",
     "text": [
      "(2, 13130)\n",
      "L=k\n",
      "0:00:00\n",
      "6243\n",
      "0:00:00\n"
     ]
    }
   ],
   "source": [
    "a = datetime.datetime.now().replace(microsecond=0)\n",
    "LsubK_ = {'may_be_treated_by': list(set(L_umls['may_be_treated_by'])-set(K_umls['may_be_treated_by']))}\n",
    "l0, k0 = measures.k_n_l_iov(LsubK_['may_be_treated_by'], \n",
    "                            LsubK_['may_be_treated_by'],\n",
    "                            model, \n",
    "                            emb_type = 'cui')\n",
    "print(datetime.datetime.now().replace(microsecond=0)-a)"
   ]
  },
  {
   "cell_type": "code",
   "execution_count": 9,
   "id": "molecular-input",
   "metadata": {},
   "outputs": [
    {
     "data": {
      "text/plain": [
       "14338"
      ]
     },
     "execution_count": 9,
     "metadata": {},
     "output_type": "execute_result"
    }
   ],
   "source": [
    "len(set(L_umls['may_treat']))"
   ]
  },
  {
   "cell_type": "code",
   "execution_count": 10,
   "id": "accepting-parish",
   "metadata": {},
   "outputs": [
    {
     "data": {
      "text/plain": [
       "1208"
      ]
     },
     "execution_count": 10,
     "metadata": {},
     "output_type": "execute_result"
    }
   ],
   "source": [
    "len(set(K_umls['may_treat']))"
   ]
  },
  {
   "cell_type": "markdown",
   "id": "fluid-lingerie",
   "metadata": {},
   "source": [
    "### A dictionary for the PCA first components for each useful relation is built:"
   ]
  },
  {
   "cell_type": "markdown",
   "id": "palestinian-canal",
   "metadata": {},
   "source": [
    "### The toy embedding DeVine is used for tests."
   ]
  },
  {
   "cell_type": "markdown",
   "id": "computational-folks",
   "metadata": {},
   "source": [
    "The dimensions for each relation in L/K set"
   ]
  },
  {
   "cell_type": "code",
   "execution_count": 33,
   "id": "formal-pepper",
   "metadata": {},
   "outputs": [
    {
     "name": "stdout",
     "output_type": "stream",
     "text": [
      "associated_finding_of length : 8675\n",
      "associated_morphology_of length : 127567\n",
      "associated_with_malfunction_of_gene_product length : 476\n",
      "clinical_course_of length : 3342\n",
      "contraindicated_with_disease length : 10364\n",
      "course_of length : 2355\n",
      "disease_has_associated_anatomic_site length : 35849\n",
      "disease_has_associated_gene length : 2024\n",
      "finding_site_of length : 221540\n",
      "gene_associated_with_disease length : 2024\n",
      "gene_product_malfunction_associated_with_disease length : 476\n",
      "has_associated_finding length : 8675\n",
      "has_associated_morphology length : 127567\n",
      "has_clinical_course length : 3342\n",
      "has_contraindicated_drug length : 10364\n",
      "has_course length : 2355\n",
      "has_finding_site length : 221540\n",
      "has_manifestation length : 107218\n",
      "is_associated_anatomic_site_of length : 35849\n",
      "manifestation_of length : 107218\n",
      "may_be_treated_by length : 13130\n",
      "may_treat length : 13130\n",
      " length : 11456624\n"
     ]
    }
   ],
   "source": [
    "for k, v in LsubK.items():\n",
    "    print(str(k) + ' length : '+str(len(v)))"
   ]
  },
  {
   "cell_type": "code",
   "execution_count": 24,
   "id": "beneficial-muslim",
   "metadata": {},
   "outputs": [
    {
     "name": "stdout",
     "output_type": "stream",
     "text": [
      "0:00:00\n",
      "0:00:00\n"
     ]
    }
   ],
   "source": [
    "a = datetime.datetime.now().replace(microsecond=0)\n",
    "first_comp_pca_ = {'may_be_treated_by': compute_bias_direction(model, k0)[0]}\n",
    "print(datetime.datetime.now().replace(microsecond=0)-a)"
   ]
  },
  {
   "cell_type": "code",
   "execution_count": 25,
   "id": "hindu-thing",
   "metadata": {},
   "outputs": [
    {
     "name": "stdout",
     "output_type": "stream",
     "text": [
      "(2, 1208)\n",
      "L=k\n",
      "0:00:00\n",
      "563\n"
     ]
    }
   ],
   "source": [
    "l0, k0 = measures.k_n_l_iov(K_umls['may_be_treated_by'], \n",
    "                            K_umls['may_be_treated_by'],\n",
    "                            model, \n",
    "                            emb_type = 'cui')"
   ]
  },
  {
   "cell_type": "code",
   "execution_count": 26,
   "id": "angry-board",
   "metadata": {},
   "outputs": [
    {
     "name": "stdout",
     "output_type": "stream",
     "text": [
      "0:00:00\n"
     ]
    }
   ],
   "source": [
    "first_comp_pca_k_ = {'may_be_treated_by': compute_bias_direction(model, k0)[0]}"
   ]
  },
  {
   "cell_type": "code",
   "execution_count": 31,
   "id": "intensive-divorce",
   "metadata": {},
   "outputs": [
    {
     "data": {
      "text/plain": [
       "0.04682798683643341"
      ]
     },
     "execution_count": 31,
     "metadata": {},
     "output_type": "execute_result"
    }
   ],
   "source": [
    "1 - spatial.distance.cosine(first_comp_pca_k_['may_be_treated_by'],first_comp_pca_['may_be_treated_by'])"
   ]
  },
  {
   "cell_type": "code",
   "execution_count": 37,
   "id": "comparable-spare",
   "metadata": {},
   "outputs": [],
   "source": [
    "tmp = set(list(zip(*l0))[0]).union(set(list(zip(*l0))[1]))"
   ]
  }
 ],
 "metadata": {
  "kernelspec": {
   "display_name": "Python 3",
   "language": "python",
   "name": "python3"
  },
  "language_info": {
   "codemirror_mode": {
    "name": "ipython",
    "version": 3
   },
   "file_extension": ".py",
   "mimetype": "text/x-python",
   "name": "python",
   "nbconvert_exporter": "python",
   "pygments_lexer": "ipython3",
   "version": "3.8.0"
  }
 },
 "nbformat": 4,
 "nbformat_minor": 5
}
